{
 "cells":[
  {
   "cell_type":"markdown",
   "source":[
    "# Section A"
   ],
   "attachments":{},
   "metadata":{
    "datalore":{
     "node_id":"Section A",
     "type":"MD",
     "hide_input_from_viewers":false,
     "hide_output_from_viewers":false,
     "sheet_delimiter":true
    }
   }
  },
  {
   "cell_type":"markdown",
   "source":[
    "### ML_HW01_208642868_207933672"
   ],
   "attachments":{},
   "metadata":{
    "datalore":{
     "node_id":"45llLZCaTu0qm5ep9VMZNh",
     "type":"MD",
     "hide_input_from_viewers":true,
     "hide_output_from_viewers":true
    }
   }
  },
  {
   "cell_type":"markdown",
   "source":[
    "# Section A"
   ],
   "attachments":{},
   "metadata":{
    "datalore":{
     "node_id":"kSGmYtRJkpq1wtRLAfJLdw",
     "type":"MD",
     "hide_input_from_viewers":true,
     "hide_output_from_viewers":true
    }
   }
  },
  {
   "cell_type":"markdown",
   "source":[
    "### Notes: \n",
    "#### 1. Hyper parameter tuning implemented in the activation functions"
   ],
   "attachments":{},
   "metadata":{
    "datalore":{
     "node_id":"TsRdd4FqoXZQUH8WthTFMn",
     "type":"MD",
     "hide_input_from_viewers":true,
     "hide_output_from_viewers":true
    }
   }
  },
  {
   "cell_type":"markdown",
   "source":[
    "## Classification tree class"
   ],
   "attachments":{},
   "metadata":{
    "datalore":{
     "node_id":"4rMffvl8By0jQXSAKa4fjt",
     "type":"MD",
     "hide_input_from_viewers":true,
     "hide_output_from_viewers":true
    }
   }
  },
  {
   "cell_type":"code",
   "source":[
    "import pandas as pd\n",
    "import numpy as np\n",
    "import matplotlib.pyplot as plt\n",
    "from collections import Counter\n",
    "\n",
    "# Custom model classification tree\n",
    "class Node:\n",
    "    def __init__(self, feature=None, threshold=None, left=None, right=None,*,value=None):\n",
    "        self.feature = feature\n",
    "        self.threshold = threshold\n",
    "        self.left = left\n",
    "        self.right = right\n",
    "        self.value = value\n",
    "\n",
    "    def is_leaf_node(self):\n",
    "        return self.value is not None\n",
    "\n",
    "\n",
    "class ClassificationTree:\n",
    "    def __init__(self, min_samples_split=2, max_depth=100, n_features=None):\n",
    "        self.min_samples_split = min_samples_split\n",
    "        self.max_depth = max_depth\n",
    "        self.n_features = n_features\n",
    "        self.root = None\n",
    "\n",
    "    def fit(self, X, y):\n",
    "        self.n_features = X.shape[1] if not self.n_features else min(X.shape[1], self.n_features)\n",
    "        self.root = self._grow_tree(X, y)\n",
    "\n",
    "    def _grow_tree(self, X, y, depth=0):\n",
    "        n_samples, n_feats = X.shape\n",
    "        n_labels = len(np.unique(y))\n",
    "\n",
    "        # Check the stopping criteria\n",
    "        if depth >= self.max_depth or n_labels == 1 or n_samples < self.min_samples_split:\n",
    "            leaf_value = self._most_common_label(y)\n",
    "            return Node(value=leaf_value)\n",
    "\n",
    "        feat_idxs = np.random.choice(n_feats, self.n_features, replace=False)\n",
    "\n",
    "        # Find the best split\n",
    "        best_feature, best_thresh = self._best_split(X, y, feat_idxs)\n",
    "        \n",
    "        # Create child nodes\n",
    "        left_idxs, right_idxs = self._split(X[:, best_feature], best_thresh)\n",
    "        if len(left_idxs) == 0 or len(right_idxs) == 0:\n",
    "            leaf_value = self._most_common_label(y)\n",
    "            return Node(value=leaf_value)\n",
    "        \n",
    "        left = self._grow_tree(X[left_idxs, :], y[left_idxs], depth + 1)\n",
    "        right = self._grow_tree(X[right_idxs, :], y[right_idxs], depth + 1)\n",
    "        return Node(best_feature, best_thresh, left, right)\n",
    "\n",
    "    def _best_split(self, X, y, feat_idxs):\n",
    "        best_gain = -1\n",
    "        split_idx, split_threshold = None, None\n",
    "\n",
    "        for feat_idx in feat_idxs:\n",
    "            X_column = X[:, feat_idx]\n",
    "            thresholds = np.unique(X_column)\n",
    "\n",
    "            for thr in thresholds:\n",
    "                # Calculate the Gini index\n",
    "                gain = self._gini_gain(y, X_column, thr)\n",
    "\n",
    "                if gain > best_gain:\n",
    "                    best_gain = gain\n",
    "                    split_idx = feat_idx\n",
    "                    split_threshold = thr\n",
    "\n",
    "        return split_idx, split_threshold\n",
    "\n",
    "    def _gini_gain(self, y, X_column, threshold):\n",
    "        # Parent Gini\n",
    "        parent_gini = self._gini(y)\n",
    "\n",
    "        # Create children\n",
    "        left_idxs, right_idxs = self._split(X_column, threshold)\n",
    "\n",
    "        if len(left_idxs) == 0 or len(right_idxs) == 0:\n",
    "            return 0\n",
    "\n",
    "        # Calculate the weighted avg. Gini of children\n",
    "        n = len(y)\n",
    "        n_l, n_r = len(left_idxs), len(right_idxs)\n",
    "        g_l, g_r = self._gini(y[left_idxs]), self._gini(y[right_idxs])\n",
    "        child_gini = (n_l \/ n) * g_l + (n_r \/ n) * g_r\n",
    "\n",
    "        # Calculate the Gini gain\n",
    "        gini_gain = parent_gini - child_gini\n",
    "        return gini_gain\n",
    "\n",
    "    def _split(self, X_column, split_thresh):\n",
    "        left_idxs = np.argwhere(X_column <= split_thresh).flatten()\n",
    "        right_idxs = np.argwhere(X_column > split_thresh).flatten()\n",
    "        return left_idxs, right_idxs\n",
    "\n",
    "    def _gini(self, y):\n",
    "        hist = np.bincount(y)\n",
    "        ps = hist \/ len(y)\n",
    "        return 1 - np.sum([p**2 for p in ps])\n",
    "\n",
    "    def _most_common_label(self, y):\n",
    "        counter = Counter(y)\n",
    "        value = counter.most_common(1)[0][0]\n",
    "        return value\n",
    "\n",
    "    def predict(self, X):\n",
    "        return np.array([self._traverse_tree(x, self.root) for x in X])\n",
    "\n",
    "    def _traverse_tree(self, x, node):\n",
    "        if node.is_leaf_node():\n",
    "            return node.value\n",
    "\n",
    "        if x[node.feature] <= node.threshold:\n",
    "            return self._traverse_tree(x, node.left)\n",
    "        return self._traverse_tree(x, node.right)\n",
    "    pass"
   ],
   "execution_count":58,
   "outputs":[],
   "metadata":{
    "datalore":{
     "node_id":"eExKENYtHAwV3gaj7cpgx9",
     "type":"CODE",
     "hide_input_from_viewers":true,
     "hide_output_from_viewers":true
    }
   }
  },
  {
   "cell_type":"markdown",
   "source":[
    "## Regression tree class"
   ],
   "attachments":{},
   "metadata":{
    "datalore":{
     "node_id":"Rr4buqbU8KQxKktHNfOhI2",
     "type":"MD",
     "hide_input_from_viewers":true,
     "hide_output_from_viewers":true
    }
   }
  },
  {
   "cell_type":"code",
   "source":[
    "# custom regression tree\n",
    "class RegressionTree:\n",
    "    def __init__(self, min_samples_split=2, max_depth=100, n_features=None):\n",
    "        self.min_samples_split = min_samples_split\n",
    "        self.max_depth = max_depth\n",
    "        self.n_features = n_features\n",
    "        self.root = None\n",
    "\n",
    "    def fit(self, X, y):\n",
    "        self.n_features = X.shape[1] if not self.n_features else min(X.shape[1], self.n_features)\n",
    "        self.root = self._grow_tree(np.array(X), np.array(y))\n",
    "\n",
    "    def _grow_tree(self, X, y, depth=0):\n",
    "        n_samples, n_feats = X.shape\n",
    "\n",
    "        if (depth >= self.max_depth or n_samples < self.min_samples_split):\n",
    "            leaf_value = self._mean_value(y)\n",
    "            return Node(value=leaf_value)\n",
    "\n",
    "        feat_idxs = np.random.choice(n_feats, self.n_features, replace=False)\n",
    "\n",
    "        best_feature, best_thresh = self._best_split(X, y, feat_idxs)\n",
    "\n",
    "        if best_feature is None or best_thresh is None:\n",
    "            leaf_value = self._mean_value(y)\n",
    "            return Node(value=leaf_value)\n",
    "\n",
    "        left_idxs, right_idxs = self._split(X[:, best_feature], best_thresh)\n",
    "        left = self._grow_tree(X[left_idxs, :], y[left_idxs], depth + 1)\n",
    "        right = self._grow_tree(X[right_idxs, :], y[right_idxs], depth + 1)\n",
    "        return Node(best_feature, best_thresh, left, right)\n",
    "\n",
    "    def _best_split(self, X, y, feat_idxs):\n",
    "        best_ssr = float('inf')\n",
    "        split_idx, split_threshold = None, None\n",
    "\n",
    "        for feat_idx in feat_idxs:\n",
    "            X_column = X[:, feat_idx]\n",
    "            thresholds = np.unique(X_column)\n",
    "\n",
    "            for thr in thresholds:\n",
    "                ssr = self._sum_squared_residuals(y, X_column, thr)\n",
    "                if ssr < best_ssr:\n",
    "                    best_ssr = ssr\n",
    "                    split_idx = feat_idx\n",
    "                    split_threshold = thr\n",
    "\n",
    "        return split_idx, split_threshold\n",
    "\n",
    "    def _sum_squared_residuals(self, y, X_column, threshold):\n",
    "        left_idxs, right_idxs = self._split(X_column, threshold)\n",
    "\n",
    "        if len(left_idxs) == 0 or len(right_idxs) == 0:\n",
    "            return float('inf')\n",
    "\n",
    "        ssr_l = np.sum((y[left_idxs] - np.mean(y[left_idxs])) ** 2)\n",
    "        ssr_r = np.sum((y[right_idxs] - np.mean(y[right_idxs])) ** 2)\n",
    "        ssr = ssr_l + ssr_r\n",
    "        return ssr\n",
    "\n",
    "    def _split(self, X_column, split_thresh):\n",
    "        if split_thresh is None:\n",
    "            print(f\"Invalid split threshold: {split_thresh}\")\n",
    "        left_idxs = np.argwhere(X_column <= split_thresh).flatten()\n",
    "        right_idxs = np.argwhere(X_column > split_thresh).flatten()\n",
    "        return left_idxs, right_idxs\n",
    "\n",
    "    def _mean_value(self, y):\n",
    "        return np.mean(y)\n",
    "\n",
    "    def predict(self, X):\n",
    "        return np.array([self._traverse_tree(x, self.root) for x in X])\n",
    "\n",
    "    def _traverse_tree(self, x, node):\n",
    "        if node.is_leaf_node():\n",
    "            return node.value\n",
    "\n",
    "        if x[node.feature] <= node.threshold:\n",
    "            return self._traverse_tree(x, node.left)\n",
    "        return self._traverse_tree(x, node.right)\n",
    "    pass"
   ],
   "execution_count":59,
   "outputs":[],
   "metadata":{
    "datalore":{
     "node_id":"aoa0QFZCh784oCJeRKwvYZ",
     "type":"CODE",
     "hide_input_from_viewers":true,
     "hide_output_from_viewers":true
    }
   }
  },
  {
   "cell_type":"markdown",
   "source":[
    "## Random Forest class"
   ],
   "attachments":{},
   "metadata":{
    "datalore":{
     "node_id":"nHHXw0xtgLoA334611w9ij",
     "type":"MD",
     "hide_input_from_viewers":true,
     "hide_output_from_viewers":true
    }
   }
  },
  {
   "cell_type":"code",
   "source":[
    "\n",
    "class RandomForest:\n",
    "    def __init__(self, n_trees=10, max_depth=None, min_samples_split=2, task=\"classification\"):\n",
    "        self.n_trees = n_trees\n",
    "        self.max_depth = max_depth\n",
    "        self.min_samples_split = min_samples_split\n",
    "        self.task = task\n",
    "        self.trees = []\n",
    "\n",
    "    def fit(self, X, y):\n",
    "        self.trees = []\n",
    "        for _ in range(self.n_trees):\n",
    "            idxs = np.random.choice(len(X), len(X), replace=True)\n",
    "            X_sample, y_sample = X[idxs], y[idxs]\n",
    "            if self.task == \"classification\":\n",
    "                tree = ClassificationTree(min_samples_split=self.min_samples_split, max_depth=self.max_depth)\n",
    "            else:\n",
    "                tree = RegressionTree(min_samples_split=self.min_samples_split, max_depth=self.max_depth)\n",
    "            tree.fit(X_sample, y_sample)\n",
    "            self.trees.append(tree)\n",
    "\n",
    "    def predict(self, X):\n",
    "        if self.task == \"classification\":\n",
    "            tree_preds = np.array([tree.predict(X) for tree in self.trees])\n",
    "            tree_preds = np.swapaxes(tree_preds, 0, 1)\n",
    "            y_pred = [Counter(tree_pred).most_common(1)[0][0] for tree_pred in tree_preds]\n",
    "        else:\n",
    "            tree_preds = np.array([tree.predict(X) for tree in self.trees])\n",
    "            y_pred = np.mean(tree_preds, axis=0)\n",
    "        return y_pred"
   ],
   "execution_count":78,
   "outputs":[],
   "metadata":{
    "datalore":{
     "node_id":"hoX1ogetbamdyni4BckdKN",
     "type":"CODE",
     "hide_input_from_viewers":true,
     "hide_output_from_viewers":true
    }
   }
  },
  {
   "cell_type":"markdown",
   "source":[
    "# Section B"
   ],
   "attachments":{},
   "metadata":{
    "datalore":{
     "node_id":"Section B",
     "type":"MD",
     "hide_input_from_viewers":false,
     "hide_output_from_viewers":false,
     "sheet_delimiter":true
    }
   }
  },
  {
   "cell_type":"markdown",
   "source":[
    "# Section B"
   ],
   "attachments":{},
   "metadata":{
    "datalore":{
     "node_id":"5YDqSjcohEkNQkQoklQnxP",
     "type":"MD",
     "hide_input_from_viewers":true,
     "hide_output_from_viewers":true
    }
   }
  },
  {
   "cell_type":"markdown",
   "source":[
    "## **EDA**"
   ],
   "attachments":{},
   "metadata":{
    "datalore":{
     "node_id":"wWaZxeM6mSkyuM3MoPDiG4",
     "type":"MD",
     "hide_input_from_viewers":true,
     "hide_output_from_viewers":true
    }
   }
  },
  {
   "cell_type":"code",
   "source":[
    "#Import Libraries and Set Display Options\n",
    "import pandas as pd\n",
    "import numpy as np\n",
    "import matplotlib.pyplot as plt\n",
    "import seaborn as sns #for plots\n",
    "\n",
    "# Set Pandas display options to prevent truncation\n",
    "pd.set_option('display.max_rows', None)\n",
    "pd.set_option('display.max_columns', None)\n",
    "pd.set_option('display.width', None)\n",
    "pd.set_option('display.max_colwidth', None)"
   ],
   "execution_count":62,
   "outputs":[],
   "metadata":{
    "datalore":{
     "node_id":"PvLgXQ4FRVcGg56krPvvak",
     "type":"CODE",
     "hide_input_from_viewers":true,
     "hide_output_from_viewers":true
    }
   }
  },
  {
   "cell_type":"code",
   "source":[
    "#Load Data\n",
    "df = pd.read_csv(\"assignment-1-data.csv\")\n",
    "\n",
    "# Display the shape of the dataset\n",
    "print(f\"Data Shape: {df.shape}\")"
   ],
   "execution_count":63,
   "outputs":[
    {
     "name":"stdout",
     "text":[
      "Data Shape: (2939, 10)\n"
     ],
     "output_type":"stream"
    }
   ],
   "metadata":{
    "datalore":{
     "node_id":"4VzyMvn1nonukuXAnpnZHb",
     "type":"CODE",
     "hide_input_from_viewers":true,
     "hide_output_from_viewers":true
    }
   }
  },
  {
   "cell_type":"code",
   "source":[
    "#Basic Data Inspection\n",
    "print(\"Dataset information:\\n\\n \")\n",
    "df.info()"
   ],
   "execution_count":64,
   "outputs":[
    {
     "name":"stdout",
     "text":[
      "Dataset information:\n",
      "\n",
      " \n",
      "<class 'pandas.core.frame.DataFrame'>\n",
      "RangeIndex: 2939 entries, 0 to 2938\n",
      "Data columns (total 10 columns):\n",
      " #   Column               Non-Null Count  Dtype  \n",
      "---  ------               --------------  -----  \n",
      " 0   Brand                2939 non-null   object \n",
      " 1   Product_Description  2939 non-null   object \n",
      " 2   Screen_Size          2939 non-null   float64\n",
      " 3   RAM                  2939 non-null   int64  \n",
      " 4   Processor            2939 non-null   object \n",
      " 5   GPU                  2592 non-null   object \n",
      " 6   GPU_Type             2705 non-null   object \n",
      " 7   Resolution           2552 non-null   object \n",
      " 8   Condition            2939 non-null   object \n",
      " 9   Price                2939 non-null   float64\n",
      "dtypes: float64(2), int64(1), object(7)\n",
      "memory usage: 229.7+ KB\n"
     ],
     "output_type":"stream"
    }
   ],
   "metadata":{
    "datalore":{
     "node_id":"dzKYzBVPcR03uFkpWpfZca",
     "type":"CODE",
     "hide_input_from_viewers":true,
     "hide_output_from_viewers":true
    }
   }
  },
  {
   "cell_type":"markdown",
   "source":[
    "## Data Handling Overview\n",
    "* Data Completeness: Most columns have complete data with 2939 non-null entries. However, GPU, GPU_Type, and Resolution columns have some missing values.\n",
    "* Data Types:\n",
    "  * Categorical data (object type): Brand, Product_Description, Processor, GPU, GPU_Type, Resolution, Condition.\n",
    "  * Numerical data: Screen_Size (float64), RAM (int64), Price (float64).\n",
    "* Memory Usage: The dataset is relatively small, using only 229.7+ KB, making it manageable for processing and analysis."
   ],
   "attachments":{},
   "metadata":{
    "datalore":{
     "node_id":"G1yQ6GzkdFDEcTYnGkGpD0",
     "type":"MD",
     "hide_input_from_viewers":true,
     "hide_output_from_viewers":true
    }
   }
  },
  {
   "cell_type":"code",
   "source":[
    "print(\"First 5 rows of the dataset:\")\n",
    "df.head()"
   ],
   "execution_count":65,
   "outputs":[
    {
     "name":"stdout",
     "text":[
      "First 5 rows of the dataset:\n"
     ],
     "output_type":"stream"
    },
    {
     "data":{
      "text\/html":[
       "<div>\n",
       "<style scoped>\n",
       "    .dataframe tbody tr th:only-of-type {\n",
       "        vertical-align: middle;\n",
       "    }\n",
       "\n",
       "    .dataframe tbody tr th {\n",
       "        vertical-align: top;\n",
       "    }\n",
       "\n",
       "    .dataframe thead th {\n",
       "        text-align: right;\n",
       "    }\n",
       "<\/style>\n",
       "<table border=\"1\" class=\"dataframe\">\n",
       "  <thead>\n",
       "    <tr style=\"text-align: right;\">\n",
       "      <th><\/th>\n",
       "      <th>Brand<\/th>\n",
       "      <th>Product_Description<\/th>\n",
       "      <th>Screen_Size<\/th>\n",
       "      <th>RAM<\/th>\n",
       "      <th>Processor<\/th>\n",
       "      <th>GPU<\/th>\n",
       "      <th>GPU_Type<\/th>\n",
       "      <th>Resolution<\/th>\n",
       "      <th>Condition<\/th>\n",
       "      <th>Price<\/th>\n",
       "    <\/tr>\n",
       "  <\/thead>\n",
       "  <tbody>\n",
       "    <tr>\n",
       "      <th>0<\/th>\n",
       "      <td>Dell<\/td>\n",
       "      <td>Dell Latitude 5490 14\" Intel i5-8350U 32GB RAM 1TB NVME SSD HDMI Win 11 Laptop<\/td>\n",
       "      <td>14.0<\/td>\n",
       "      <td>32<\/td>\n",
       "      <td>Intel Core i5 8th Gen.<\/td>\n",
       "      <td>Intel UHD Graphics 620<\/td>\n",
       "      <td>Integrated Graphics<\/td>\n",
       "      <td>NaN<\/td>\n",
       "      <td>Excellent - Refurbished<\/td>\n",
       "      <td>299.99<\/td>\n",
       "    <\/tr>\n",
       "    <tr>\n",
       "      <th>1<\/th>\n",
       "      <td>HP<\/td>\n",
       "      <td>HP 15-dy2046ms Intel Core i3-1125G4 8GB\/128GB 15.6'' Windows 11 Laptop<\/td>\n",
       "      <td>15.6<\/td>\n",
       "      <td>8<\/td>\n",
       "      <td>Intel Core i3 11th Gen.<\/td>\n",
       "      <td>Intel UHD Graphics<\/td>\n",
       "      <td>Integrated Graphics<\/td>\n",
       "      <td>1366 x 768<\/td>\n",
       "      <td>New<\/td>\n",
       "      <td>400.00<\/td>\n",
       "    <\/tr>\n",
       "    <tr>\n",
       "      <th>2<\/th>\n",
       "      <td>Samsung<\/td>\n",
       "      <td>Samsung Galaxy Book Pro 15.6\" AMOLED Laptop (512GB, Intel i5) NP950XDB-KB2U<\/td>\n",
       "      <td>15.6<\/td>\n",
       "      <td>8<\/td>\n",
       "      <td>Intel Core i5 11th Gen.<\/td>\n",
       "      <td>Intel Iris Xe Graphics<\/td>\n",
       "      <td>Integrated Graphics<\/td>\n",
       "      <td>1920 x 1080<\/td>\n",
       "      <td>Open box<\/td>\n",
       "      <td>599.99<\/td>\n",
       "    <\/tr>\n",
       "    <tr>\n",
       "      <th>3<\/th>\n",
       "      <td>Dell<\/td>\n",
       "      <td>Dell Latitude 5420 14\" Intel Core I5-1145G7 16GB 256GB K34YF | No OS Installed<\/td>\n",
       "      <td>14.0<\/td>\n",
       "      <td>16<\/td>\n",
       "      <td>Intel Core i5 11th Gen.<\/td>\n",
       "      <td>Intel Iris Xe Graphics<\/td>\n",
       "      <td>Integrated Graphics<\/td>\n",
       "      <td>1920 x 1080<\/td>\n",
       "      <td>Open box<\/td>\n",
       "      <td>429.95<\/td>\n",
       "    <\/tr>\n",
       "    <tr>\n",
       "      <th>4<\/th>\n",
       "      <td>Lenovo<\/td>\n",
       "      <td>Lenovo ThinkBook 14s-IWL Laptop 14\" i5 AMD Radeon 512GB M.2 8GB RAM Win10 (Z3E2)<\/td>\n",
       "      <td>14.0<\/td>\n",
       "      <td>8<\/td>\n",
       "      <td>Intel Core i5 8th Gen.<\/td>\n",
       "      <td>AMD Radeon 540X<\/td>\n",
       "      <td>Dedicated Graphics<\/td>\n",
       "      <td>1920 x 1080<\/td>\n",
       "      <td>Very Good - Refurbished<\/td>\n",
       "      <td>269.95<\/td>\n",
       "    <\/tr>\n",
       "  <\/tbody>\n",
       "<\/table>\n",
       "<\/div>"
      ]
     },
     "metadata":{},
     "output_type":"display_data"
    }
   ],
   "metadata":{
    "datalore":{
     "node_id":"e7o5jXr5CfLUSJ4xQeq9Ns",
     "type":"CODE",
     "hide_input_from_viewers":true,
     "hide_output_from_viewers":true
    }
   }
  },
  {
   "cell_type":"code",
   "source":[
    "#Summary Statistics\n",
    "print(\"Summary statistics for all columns:\")\n",
    "df.describe(include='all').T"
   ],
   "execution_count":66,
   "outputs":[
    {
     "name":"stdout",
     "text":[
      "Summary statistics for all columns:\n"
     ],
     "output_type":"stream"
    },
    {
     "data":{
      "text\/html":[
       "<div>\n",
       "<style scoped>\n",
       "    .dataframe tbody tr th:only-of-type {\n",
       "        vertical-align: middle;\n",
       "    }\n",
       "\n",
       "    .dataframe tbody tr th {\n",
       "        vertical-align: top;\n",
       "    }\n",
       "\n",
       "    .dataframe thead th {\n",
       "        text-align: right;\n",
       "    }\n",
       "<\/style>\n",
       "<table border=\"1\" class=\"dataframe\">\n",
       "  <thead>\n",
       "    <tr style=\"text-align: right;\">\n",
       "      <th><\/th>\n",
       "      <th>count<\/th>\n",
       "      <th>unique<\/th>\n",
       "      <th>top<\/th>\n",
       "      <th>freq<\/th>\n",
       "      <th>mean<\/th>\n",
       "      <th>std<\/th>\n",
       "      <th>min<\/th>\n",
       "      <th>25%<\/th>\n",
       "      <th>50%<\/th>\n",
       "      <th>75%<\/th>\n",
       "      <th>max<\/th>\n",
       "    <\/tr>\n",
       "  <\/thead>\n",
       "  <tbody>\n",
       "    <tr>\n",
       "      <th>Brand<\/th>\n",
       "      <td>2939<\/td>\n",
       "      <td>24<\/td>\n",
       "      <td>Dell<\/td>\n",
       "      <td>1107<\/td>\n",
       "      <td>NaN<\/td>\n",
       "      <td>NaN<\/td>\n",
       "      <td>NaN<\/td>\n",
       "      <td>NaN<\/td>\n",
       "      <td>NaN<\/td>\n",
       "      <td>NaN<\/td>\n",
       "      <td>NaN<\/td>\n",
       "    <\/tr>\n",
       "    <tr>\n",
       "      <th>Product_Description<\/th>\n",
       "      <td>2939<\/td>\n",
       "      <td>2939<\/td>\n",
       "      <td>Dell Latitude 5490 14\" Intel i5-8350U 32GB RAM 1TB NVME SSD HDMI Win 11 Laptop<\/td>\n",
       "      <td>1<\/td>\n",
       "      <td>NaN<\/td>\n",
       "      <td>NaN<\/td>\n",
       "      <td>NaN<\/td>\n",
       "      <td>NaN<\/td>\n",
       "      <td>NaN<\/td>\n",
       "      <td>NaN<\/td>\n",
       "      <td>NaN<\/td>\n",
       "    <\/tr>\n",
       "    <tr>\n",
       "      <th>Screen_Size<\/th>\n",
       "      <td>2939.0<\/td>\n",
       "      <td>NaN<\/td>\n",
       "      <td>NaN<\/td>\n",
       "      <td>NaN<\/td>\n",
       "      <td>14.547941<\/td>\n",
       "      <td>1.174394<\/td>\n",
       "      <td>10.0<\/td>\n",
       "      <td>14.0<\/td>\n",
       "      <td>14.0<\/td>\n",
       "      <td>15.6<\/td>\n",
       "      <td>18.0<\/td>\n",
       "    <\/tr>\n",
       "    <tr>\n",
       "      <th>RAM<\/th>\n",
       "      <td>2939.0<\/td>\n",
       "      <td>NaN<\/td>\n",
       "      <td>NaN<\/td>\n",
       "      <td>NaN<\/td>\n",
       "      <td>14.677101<\/td>\n",
       "      <td>9.508703<\/td>\n",
       "      <td>4.0<\/td>\n",
       "      <td>8.0<\/td>\n",
       "      <td>16.0<\/td>\n",
       "      <td>16.0<\/td>\n",
       "      <td>64.0<\/td>\n",
       "    <\/tr>\n",
       "    <tr>\n",
       "      <th>Processor<\/th>\n",
       "      <td>2939<\/td>\n",
       "      <td>47<\/td>\n",
       "      <td>Intel Core i5 11th Gen.<\/td>\n",
       "      <td>449<\/td>\n",
       "      <td>NaN<\/td>\n",
       "      <td>NaN<\/td>\n",
       "      <td>NaN<\/td>\n",
       "      <td>NaN<\/td>\n",
       "      <td>NaN<\/td>\n",
       "      <td>NaN<\/td>\n",
       "      <td>NaN<\/td>\n",
       "    <\/tr>\n",
       "    <tr>\n",
       "      <th>GPU<\/th>\n",
       "      <td>2592<\/td>\n",
       "      <td>217<\/td>\n",
       "      <td>Intel Iris Xe Graphics<\/td>\n",
       "      <td>994<\/td>\n",
       "      <td>NaN<\/td>\n",
       "      <td>NaN<\/td>\n",
       "      <td>NaN<\/td>\n",
       "      <td>NaN<\/td>\n",
       "      <td>NaN<\/td>\n",
       "      <td>NaN<\/td>\n",
       "      <td>NaN<\/td>\n",
       "    <\/tr>\n",
       "    <tr>\n",
       "      <th>GPU_Type<\/th>\n",
       "      <td>2705<\/td>\n",
       "      <td>2<\/td>\n",
       "      <td>Integrated Graphics<\/td>\n",
       "      <td>2264<\/td>\n",
       "      <td>NaN<\/td>\n",
       "      <td>NaN<\/td>\n",
       "      <td>NaN<\/td>\n",
       "      <td>NaN<\/td>\n",
       "      <td>NaN<\/td>\n",
       "      <td>NaN<\/td>\n",
       "      <td>NaN<\/td>\n",
       "    <\/tr>\n",
       "    <tr>\n",
       "      <th>Resolution<\/th>\n",
       "      <td>2552<\/td>\n",
       "      <td>30<\/td>\n",
       "      <td>1920 x 1080<\/td>\n",
       "      <td>1706<\/td>\n",
       "      <td>NaN<\/td>\n",
       "      <td>NaN<\/td>\n",
       "      <td>NaN<\/td>\n",
       "      <td>NaN<\/td>\n",
       "      <td>NaN<\/td>\n",
       "      <td>NaN<\/td>\n",
       "      <td>NaN<\/td>\n",
       "    <\/tr>\n",
       "    <tr>\n",
       "      <th>Condition<\/th>\n",
       "      <td>2939<\/td>\n",
       "      <td>5<\/td>\n",
       "      <td>New<\/td>\n",
       "      <td>828<\/td>\n",
       "      <td>NaN<\/td>\n",
       "      <td>NaN<\/td>\n",
       "      <td>NaN<\/td>\n",
       "      <td>NaN<\/td>\n",
       "      <td>NaN<\/td>\n",
       "      <td>NaN<\/td>\n",
       "      <td>NaN<\/td>\n",
       "    <\/tr>\n",
       "    <tr>\n",
       "      <th>Price<\/th>\n",
       "      <td>2939.0<\/td>\n",
       "      <td>NaN<\/td>\n",
       "      <td>NaN<\/td>\n",
       "      <td>NaN<\/td>\n",
       "      <td>516.897465<\/td>\n",
       "      <td>235.422627<\/td>\n",
       "      <td>0.0<\/td>\n",
       "      <td>325.485<\/td>\n",
       "      <td>489.99<\/td>\n",
       "      <td>699.0<\/td>\n",
       "      <td>999.99<\/td>\n",
       "    <\/tr>\n",
       "  <\/tbody>\n",
       "<\/table>\n",
       "<\/div>"
      ]
     },
     "metadata":{},
     "output_type":"display_data"
    }
   ],
   "metadata":{
    "datalore":{
     "node_id":"4vqrR9yPd4ncmN1y9TRuku",
     "type":"CODE",
     "hide_input_from_viewers":true,
     "hide_output_from_viewers":true
    }
   }
  },
  {
   "cell_type":"markdown",
   "source":[
    "## Key Points:\n",
    "* Brand: Dell is the most frequent brand.\n",
    "\n",
    "* Product_Description: Each product description is unique.\n",
    "\n",
    "* Screen_Size: Average screen size is approximately 14.5 inches, with a standard deviation of 1.17.\n",
    "* RAM: The mean RAM is around 14.68GB, with a wide range from 4GB to 64GB.\n",
    "* Processor: Intel Core i5 11th Gen is the most common processor.\n",
    "* GPU: Intel Iris Xe Graphics is the most frequent GPU.\n",
    "* GPU_Type: Integrated Graphics is the predominant type.\n",
    "* Resolution: 1920 x 1080 is the most common resolution.\n",
    "* Condition: New condition is the most frequent.\n",
    "* Price: The average price is around 516.90 USD, with a wide range from 0 USD to nearly 1000 USD."
   ],
   "attachments":{},
   "metadata":{
    "datalore":{
     "node_id":"BeEfBoo4OwUg3TpUMuEyee",
     "type":"MD",
     "hide_input_from_viewers":true,
     "hide_output_from_viewers":true
    }
   }
  },
  {
   "cell_type":"code",
   "source":[
    "#Missing Values Analysis\n",
    "missing_values = df.isnull().sum()\n",
    "print(\"Missing values in each column:\\n\\n \")\n",
    "print(missing_values)"
   ],
   "execution_count":67,
   "outputs":[
    {
     "name":"stdout",
     "text":[
      "Missing values in each column:\n",
      "\n",
      " \n",
      "Brand                    0\n",
      "Product_Description      0\n",
      "Screen_Size              0\n",
      "RAM                      0\n",
      "Processor                0\n",
      "GPU                    347\n",
      "GPU_Type               234\n",
      "Resolution             387\n",
      "Condition                0\n",
      "Price                    0\n",
      "dtype: int64\n"
     ],
     "output_type":"stream"
    }
   ],
   "metadata":{
    "datalore":{
     "node_id":"juYtMuuEDBNddoJPE2FhEM",
     "type":"CODE",
     "hide_input_from_viewers":true,
     "hide_output_from_viewers":true
    }
   }
  },
  {
   "cell_type":"markdown",
   "source":[
    "## Insights from Missing Values Analysis\n",
    "* GPU, GPU_Type, and Resolution: These columns have missing values and will need data cleaning or imputation.\n",
    "\n",
    "* Brand, Product_Description, Screen_Size, RAM, Processor, Condition, and Price: These columns have complete data, ensuring reliable analysis without additional preprocessing."
   ],
   "attachments":{},
   "metadata":{
    "datalore":{
     "node_id":"T9uh675vj7UQ92tX0l4I3q",
     "type":"MD",
     "hide_input_from_viewers":true,
     "hide_output_from_viewers":true
    }
   }
  },
  {
   "cell_type":"code",
   "source":[
    "#Univariate Analysis - Adjusted plot settings for better visibility\n",
    "import math\n",
    "\n",
    "selected_features = ['Brand', 'Screen_Size', 'RAM', 'Processor', 'GPU', 'GPU_Type', 'Resolution', 'Condition', 'Price']\n",
    "top_n = 10  # Only top 10 categories are shown directly\n",
    "\n",
    "num_plots_per_row = 2  # Only 2 plots per row for better visibility\n",
    "plot_width = 10\n",
    "plot_height = 6\n",
    "spacing = 1.0  # Adjust as needed\n",
    "\n",
    "num_rows = math.ceil(len(selected_features) \/ num_plots_per_row)\n",
    "fig, axes = plt.subplots(nrows=num_rows, ncols=num_plots_per_row, figsize=(plot_width*num_plots_per_row, plot_height*num_rows))\n",
    "\n",
    "for i, column in enumerate(selected_features):\n",
    "    row = i \/\/ num_plots_per_row\n",
    "    col = i % num_plots_per_row\n",
    "    \n",
    "    ax = axes[row, col]\n",
    "    if df[column].dtype == 'object':\n",
    "        # Get the top N categories and group the rest as 'Other'\n",
    "        top_categories = df[column].value_counts().nlargest(top_n).index\n",
    "        temp_series = pd.Series(np.where(df[column].isin(top_categories), df[column], 'Other'))\n",
    "        \n",
    "        sns.countplot(x=temp_series, ax=ax, order=temp_series.value_counts().index, palette='Set2')  # Added palette parameter for color consistency\n",
    "        ax.set_title(f'Distribution of {column}')\n",
    "        ax.set_xlabel('')\n",
    "        ax.set_ylabel('Count')\n",
    "        ax.tick_params(axis='x', rotation=45)\n",
    "        ax.tick_params(axis='y', labelsize=10)\n",
    "        ax.grid(True)\n",
    "        # Add legend\n",
    "        handles, labels = ax.get_legend_handles_labels()\n",
    "        ax.legend(handles, labels, title=column)\n",
    "    else:\n",
    "        sns.histplot(df[column], kde=True, ax=ax, stat=\"percent\", binwidth=np.ptp(df[column]) \/ 20)\n",
    "        ax.set_title(f'Distribution of {column}')\n",
    "        ax.set_xlabel('')\n",
    "        ax.set_ylabel('Percentage')\n",
    "\n",
    "# Hide any unused subplots\n",
    "for j in range(i + 1, num_rows * num_plots_per_row):\n",
    "    fig.delaxes(axes.flatten()[j])\n",
    "\n",
    "plt.tight_layout(pad=spacing)\n",
    "plt.show()"
   ],
   "execution_count":68,
   "outputs":[
    {
     "data":{
      "image\/png":"[encoded data removed]"
     },
     "metadata":{
      "image\/png":{}
     },
     "output_type":"display_data"
    }
   ],
   "metadata":{
    "datalore":{
     "node_id":"Jb1nEBi5z1ROMIOaw3LSkv",
     "type":"CODE",
     "hide_input_from_viewers":true,
     "hide_output_from_viewers":true
    }
   }
  },
  {
   "cell_type":"markdown",
   "source":[
    "## Plot 1: Distribution of Brand\n",
    "Key Observation: Dell, Lenovo, and HP dominate the market, with Dell having the highest count. Other brands like Microsoft, Asus, Acer, and MSI have significantly lower counts.\n",
    "## Plot 2: Distribution of Screen Size\n",
    "Key Observation: The distribution of screen sizes shows peaks around 14 inches and 15 inches, indicating these are the most common screen sizes. There are smaller peaks at 13 and 17 inches.\n",
    "## Plot 3: Distribution of RAM\n",
    "Key Observation: The most common RAM sizes are 8GB and 16GB. There are fewer devices with 32GB and 64GB of RAM, indicating that higher RAM configurations are less common.\n",
    "## Plot 4: Distribution of Processor\n",
    "Key Observation: A variety of processors are used, with a notable count for the \"Other\" category. Intel Core i5 11th Gen, Intel Core i7 11th Gen, and Intel Core i3 11th Gen are among the most common processors.\n",
    "## Plot 5: Distribution of GPU\n",
    "Key Observation: Intel Iris Xe Graphics and the \"Other\" category are the most common GPUs. Intel UHD Graphics and Intel HD Graphics 620 also have notable counts.\n",
    "## Plot 6: Distribution of GPU Type\n",
    "Key Observation: Integrated graphics dominate the market, with a significantly higher count than dedicated graphics and the \"Other\" category.\n",
    "## Plot 7: Distribution of Resolution\n",
    "Key Observation: The most common resolution is 1920 x 1080, followed by various other resolutions with much lower counts. Higher resolutions like 2560 x 1600 and 3840 x 2160 are less common.\n",
    "## Plot 8: Distribution of Condition\n",
    "Key Observation: New and open box conditions are the most common, followed by very good refurbished and good refurbished conditions. Excellent refurbished conditions are the least common among the listed conditions.\n",
    "## Plot 9: Distribution of Price\n",
    "Key Observation: The price distribution is relatively normal, with a peak around the $300-$400 range. Prices taper off towards the higher end, indicating fewer high-priced items."
   ],
   "attachments":{},
   "metadata":{
    "datalore":{
     "node_id":"0UIxpH5kutAgZjmvJAJAiU",
     "type":"MD",
     "hide_input_from_viewers":true,
     "hide_output_from_viewers":true
    }
   }
  },
  {
   "cell_type":"code",
   "source":[
    "# Mean price by brand\n",
    "grouped = df.groupby('Brand')['Price'].mean().sort_values()\n",
    "\n",
    "# Plotting\n",
    "plt.figure(figsize=(12, 8))\n",
    "sns.barplot(x=grouped.index, y=grouped.values)\n",
    "plt.title('Average Price by Brand')\n",
    "plt.xlabel('Brand')\n",
    "plt.ylabel('Average Price')\n",
    "plt.xticks(rotation=45)\n",
    "plt.show()"
   ],
   "execution_count":69,
   "outputs":[
    {
     "data":{
      "image\/png":"[encoded data removed]"
     },
     "metadata":{
      "image\/png":{}
     },
     "output_type":"display_data"
    }
   ],
   "metadata":{
    "datalore":{
     "node_id":"eJp3nNkUn7NFw8EZotvMgI",
     "type":"CODE",
     "hide_input_from_viewers":true,
     "hide_output_from_viewers":true
    }
   }
  },
  {
   "cell_type":"markdown",
   "source":[
    "\n",
    "## Plot: Average Price by Brand\n",
    "### Key Observation:\n",
    "* Eurocom, Getac, and Rugged have the highest average prices.\n",
    "* ByteSpeed, Chuwi, and Gateway have the lowest average prices.\n",
    "* Brands like Apple, Microsoft, Samsung, and LG have higher average prices.\n",
    "* Dell, Lenovo, and HP are in the mid-range."
   ],
   "attachments":{},
   "metadata":{
    "datalore":{
     "node_id":"GeTFInmfcwLyjdrUS3SwFs",
     "type":"MD",
     "hide_input_from_viewers":true,
     "hide_output_from_viewers":true
    }
   }
  },
  {
   "cell_type":"markdown",
   "source":[
    "## Data Preprocessing\n",
    "\n",
    "  -We decided to handle the bonus data as well in this section"
   ],
   "attachments":{},
   "metadata":{
    "datalore":{
     "node_id":"JqlY7oL0LA2VpH34v7J57B",
     "type":"MD",
     "hide_input_from_viewers":true,
     "hide_output_from_viewers":true
    }
   }
  },
  {
   "cell_type":"code",
   "source":[
    "import pandas as pd\n",
    "import numpy as np\n",
    "from sklearn.preprocessing import LabelEncoder\n",
    "from sklearn.impute import SimpleImputer, KNNImputer\n",
    "\n",
    "# Data Preparation\n",
    "data = pd.read_csv(\"assignment-1-data.csv\")\n",
    "data = data.drop(['Product_Description'], axis=1)\n",
    "\n",
    "# Split the 'Resolution' into 'Width' and 'Height'\n",
    "data[['Width', 'Height']] = data['Resolution'].str.split(' x ', expand=True).astype(float)\n",
    "\n",
    "# Mapping and Encoding \n",
    "data['Condition_Catagories'] = data['Condition'].replace({\n",
    "    'New': 'New', 'Open box': 'New',\n",
    "    'Excellent - Refurbished': 'Refurbished',\n",
    "    'Very Good - Refurbished': 'Refurbished',\n",
    "    'Good - Refurbished': 'Refurbished'\n",
    "})\n",
    "\n",
    "data['Condition_Catagories'] = data['Condition_Catagories'].map({'New': 1, 'Refurbished': 0})\n",
    "\n",
    "# Encode categorical variables\n",
    "label_encoders = {}\n",
    "for column in ['Brand', 'Processor', 'GPU', 'GPU_Type', 'Resolution', 'Condition']:\n",
    "    le = LabelEncoder()\n",
    "    data[column] = le.fit_transform(data[column].astype(str))\n",
    "    label_encoders[column] = le\n",
    "\n",
    "# Handle anomalous price values\n",
    "data['Price'] = data['Price'].apply(lambda x: np.nan if x < 1 else x)\n",
    "\n",
    "# KNN imputation for the remaining missing values\n",
    "knn_imputer = KNNImputer(n_neighbors=5)\n",
    "features = ['Brand', 'Screen_Size', 'RAM', 'Processor', 'GPU', 'GPU_Type', 'Width', 'Height', 'Price', 'Resolution']\n",
    "#features = ['Brand', 'Screen_Size', 'RAM', 'Processor', 'GPU', 'GPU_Type', 'Price']\n",
    "data[features] = knn_imputer.fit_transform(data[features])\n",
    "\n",
    "# Save the prepared data to a CSV file\n",
    "data.to_csv(\"prepared_data_with_pixels_handling.csv\", index=False)\n"
   ],
   "execution_count":70,
   "outputs":[],
   "metadata":{
    "datalore":{
     "node_id":"Fk9WSBfZ5OyvoGBZcwsN6K",
     "type":"CODE",
     "hide_input_from_viewers":true,
     "hide_output_from_viewers":true
    }
   }
  },
  {
   "cell_type":"markdown",
   "source":[
    "# Section C"
   ],
   "attachments":{},
   "metadata":{
    "datalore":{
     "node_id":"Section C",
     "type":"MD",
     "hide_input_from_viewers":false,
     "hide_output_from_viewers":false,
     "sheet_delimiter":true
    }
   }
  },
  {
   "cell_type":"markdown",
   "source":[
    "# Section C"
   ],
   "attachments":{},
   "metadata":{
    "datalore":{
     "node_id":"Ivw80raBmI6U0MKsYh4c3P",
     "type":"MD",
     "hide_input_from_viewers":true,
     "hide_output_from_viewers":true
    }
   }
  },
  {
   "cell_type":"markdown",
   "source":[
    "## Pre run configurations "
   ],
   "attachments":{},
   "metadata":{
    "datalore":{
     "node_id":"jgpGfX7rMqB7AimRiS8z5c",
     "type":"MD",
     "hide_input_from_viewers":true,
     "hide_output_from_viewers":true
    }
   }
  },
  {
   "cell_type":"code",
   "source":[
    "import pandas as pd\n",
    "import numpy as np\n",
    "from sklearn.metrics import accuracy_score, mean_squared_error\n",
    "import time\n",
    "\n",
    "# Load and prepare data\n",
    "data = pd.read_csv(\"prepared_data_with_pixels_handling.csv\")\n",
    "features_classification = ['Brand', 'Screen_Size', 'RAM', 'Processor', 'GPU', 'GPU_Type', 'Price', 'Resolution']\n",
    "features_regression = ['Brand', 'Screen_Size', 'RAM', 'Processor', 'GPU', 'GPU_Type', 'Condition', 'Resolution']\n",
    "target_class = 'Condition_Catagories'\n",
    "target_reg = 'Price'\n",
    "\n",
    "X = data[features_classification].values\n",
    "y_class = data[target_class].values\n",
    "X_reg = data[features_regression].values\n",
    "y_reg = data[target_reg].values\n",
    "\n",
    "# Splitting data using a helper function\n",
    "def split_data(X, y):\n",
    "    return X[:2058], X[2058:2499], X[2499:], y[:2058], y[2058:2499], y[2499:]\n",
    "\n",
    "X_train_class, X_val_class, X_test_class, y_train_class, y_val_class, y_test_class = split_data(X, y_class)\n",
    "X_train_reg, X_val_reg, X_test_reg, y_train_reg, y_val_reg, y_test_reg = split_data(X_reg, y_reg)\n",
    "\n",
    "# calc true positive (sensitivity) and true negative (specificity) rate \n",
    "def calculate_sensitivity_specificity_combined(y_true, y_pred):\n",
    "    y_true = np.array(y_true)\n",
    "    y_pred = np.array(y_pred)\n",
    "    \n",
    "    # Initialize the confusion matrix elements\n",
    "    TP = np.sum((y_true == 1) & (y_pred == 1))\n",
    "    TN = np.sum((y_true == 0) & (y_pred == 0))\n",
    "    FP = np.sum((y_true == 0) & (y_pred == 1))\n",
    "    FN = np.sum((y_true == 1) & (y_pred == 0))\n",
    "    \n",
    "    # Calculate Sensitivity and Specificity\n",
    "    sensitivity = TP \/ (TP + FN) if (TP + FN) > 0 else 0  # to avoid division by zero\n",
    "    specificity = TN \/ (TN + FP) if (TN + FP) > 0 else 0  # to avoid division by zero\n",
    "    \n",
    "    return sensitivity, specificity"
   ],
   "execution_count":86,
   "outputs":[],
   "metadata":{
    "datalore":{
     "node_id":"HAFehZLt1yfWxx7QBQz7D3",
     "type":"CODE",
     "hide_input_from_viewers":true,
     "hide_output_from_viewers":true
    }
   }
  },
  {
   "cell_type":"markdown",
   "source":[
    "## Hyper parameter tuning and activation- Classification Tree"
   ],
   "attachments":{},
   "metadata":{
    "datalore":{
     "node_id":"GacPvhTbWEGJrG3wGdDXty",
     "type":"MD",
     "hide_input_from_viewers":true,
     "hide_output_from_viewers":true
    }
   }
  },
  {
   "cell_type":"code",
   "source":[
    "\n",
    "def hyperParameterClassTree(X_train_class, X_val_class, X_test_class, y_train_class, y_val_class, y_test_class):\n",
    "    # Hyperparameter tuning using a manual grid search for classification\n",
    "    param_grid_class = {\n",
    "        'min_samples_split': [2, 5, 10],\n",
    "        'max_depth': [10, 15, 20]\n",
    "    }\n",
    "    best_accuracy_class = 0\n",
    "    best_params_class = None\n",
    "    best_model_class = None\n",
    "\n",
    "    start_time = time.time()\n",
    "\n",
    "    for min_samples_split in param_grid_class['min_samples_split']:\n",
    "        for max_depth in param_grid_class['max_depth']:\n",
    "            model_class = ClassificationTree(min_samples_split=min_samples_split, max_depth=max_depth)\n",
    "            model_class.fit(X_train_class, y_train_class)\n",
    "            y_val_pred_class = model_class.predict(X_val_class)\n",
    "            accuracy_class = accuracy_score(y_val_class, y_val_pred_class)\n",
    "            print(f\"Classification: Accuracy = {accuracy_class * 100:.2f}%, Params: min_samples_split={min_samples_split}, max_depth={max_depth}\")\n",
    "            if accuracy_class > best_accuracy_class:\n",
    "                best_accuracy_class = accuracy_class\n",
    "                best_params_class = (min_samples_split, max_depth)\n",
    "                best_model_class = model_class\n",
    "\n",
    "\n",
    "    # Test the best model on the test set Classification Tree\n",
    "    y_test_pred = best_model_class.predict(X_test_class)\n",
    "    test_accuracy_class_tree = accuracy_score(y_test_class, y_test_pred)\n",
    "    print(f\"Test Accuracy: {test_accuracy_class_tree * 100:.2f}%\")\n",
    "\n",
    "    runtime_class = time.time() - start_time\n",
    "\n",
    "    # Reporting best results for classification\n",
    "    print(f\"Best Classification Params: {best_params_class}, Accuracy: {test_accuracy_class_tree * 100:.2f}%, Runtime: {runtime_class:.2f} seconds\")\n",
    "    \n",
    "    #for section e\n",
    "    sensitivityClassTree, specificityClassTree = calculate_sensitivity_specificity_combined(y_test_class, y_test_pred)\n",
    "    print(f\"Sensitivity: {sensitivityClassForest * 100:.2f}%, Specificity: {specificityClassForest * 100:.2f}%\")\n",
    "\n",
    "    return runtime_class,best_params_class,test_accuracy_class_tree,sensitivityClassTree,specificityClassTree\n",
    "\n",
    "runtime_class,best_params_class,test_accuracy_class_tree,sensitivityClassTree,specificityClassTree=hyperParameterClassTree(X_train_class, X_val_class, X_test_class, y_train_class, y_val_class, y_test_class)\n"
   ],
   "execution_count":75,
   "outputs":[
    {
     "name":"stdout",
     "text":[
      "Classification: Accuracy = 80.73%, Params: min_samples_split=2, max_depth=10\n",
      "Classification: Accuracy = 80.73%, Params: min_samples_split=2, max_depth=15\n",
      "Classification: Accuracy = 80.27%, Params: min_samples_split=2, max_depth=20\n",
      "Classification: Accuracy = 80.95%, Params: min_samples_split=5, max_depth=10\n",
      "Classification: Accuracy = 79.82%, Params: min_samples_split=5, max_depth=15\n",
      "Classification: Accuracy = 80.50%, Params: min_samples_split=5, max_depth=20\n",
      "Classification: Accuracy = 81.41%, Params: min_samples_split=10, max_depth=10\n",
      "Classification: Accuracy = 80.95%, Params: min_samples_split=10, max_depth=15\n",
      "Classification: Accuracy = 82.31%, Params: min_samples_split=10, max_depth=20\n",
      "Test Accuracy: 78.64%\n",
      "Best Classification Params: (10, 20), Accuracy: 78.64%, Runtime: 22.24 seconds\n",
      "Sensitivity: 85.77%, Specificity: 79.19%\n"
     ],
     "output_type":"stream"
    }
   ],
   "metadata":{
    "datalore":{
     "node_id":"O0uLQOSKYyfogruNsUyBK1",
     "type":"CODE",
     "hide_input_from_viewers":true,
     "hide_output_from_viewers":true
    }
   }
  },
  {
   "cell_type":"markdown",
   "source":[
    "## Hyper parameter tuning and activation- Regression Tree"
   ],
   "attachments":{},
   "metadata":{
    "datalore":{
     "node_id":"bgiWJkhFXQF4EUCUJgbVB4",
     "type":"MD",
     "hide_input_from_viewers":true,
     "hide_output_from_viewers":true
    }
   }
  },
  {
   "cell_type":"code",
   "source":[
    "\n",
    "def hyperParameterRegressionTree(X_train_reg, X_val_reg, X_test_reg, y_train_reg, y_val_reg, y_test_reg):\n",
    "\n",
    "    #  regression tree hyper parameter tuning\n",
    "    param_grid_reg = {\n",
    "        'min_samples_split': [2, 5, 10],\n",
    "        'max_depth': [10, 15, 20]\n",
    "    }\n",
    "    best_mse_reg = float('inf')\n",
    "    best_params_reg = None\n",
    "    best_model_reg = None\n",
    "\n",
    "    start_time = time.time()\n",
    "    for min_samples_split in param_grid_reg['min_samples_split']:\n",
    "        for max_depth in param_grid_reg['max_depth']:\n",
    "            model_reg = RegressionTree(min_samples_split=min_samples_split, max_depth=max_depth)\n",
    "            model_reg.fit(X_train_reg, y_train_reg)\n",
    "            y_val_pred_reg = model_reg.predict(X_val_reg)\n",
    "            mse_reg = mean_squared_error(y_val_reg, y_val_pred_reg)\n",
    "            print(f\"Regression: MSE = {mse_reg:.2f}, Params: min_samples_split={min_samples_split}, max_depth={max_depth}\")\n",
    "            if mse_reg < best_mse_reg:\n",
    "                best_mse_reg = mse_reg\n",
    "                best_params_reg = (min_samples_split, max_depth)\n",
    "                best_model_reg = model_reg\n",
    "\n",
    "\n",
    "    # Predict and evaluate on the test set Regression Tree\n",
    "    y_test_pred = best_model_reg.predict(X_test_reg)\n",
    "    test_mse_reg_tree = mean_squared_error(y_test_reg, y_test_pred)\n",
    "    print(f'Test MSE: {test_mse_reg_tree}')\n",
    "\n",
    "    runtime_reg = time.time() - start_time\n",
    "\n",
    "    # Reporting best results for regression\n",
    "    print(f\"Best Regression Params: {best_params_reg}, MSE: {test_mse_reg_tree:.2f}, Runtime: {runtime_reg:.2f} seconds\")\n",
    "    return runtime_reg,best_params_reg,test_mse_reg_tree\n",
    "\n",
    "runtime_reg,best_params_reg,test_mse_reg_tree = hyperParameterRegressionTree(X_train_reg, X_val_reg, X_test_reg, y_train_reg, y_val_reg, y_test_reg)"
   ],
   "execution_count":76,
   "outputs":[
    {
     "name":"stdout",
     "text":[
      "Regression: MSE = 40873.72, Params: min_samples_split=2, max_depth=10\n",
      "Regression: MSE = 46126.93, Params: min_samples_split=2, max_depth=15\n",
      "Regression: MSE = 51685.05, Params: min_samples_split=2, max_depth=20\n",
      "Regression: MSE = 38866.88, Params: min_samples_split=5, max_depth=10\n",
      "Regression: MSE = 44741.59, Params: min_samples_split=5, max_depth=15\n",
      "Regression: MSE = 47106.48, Params: min_samples_split=5, max_depth=20\n",
      "Regression: MSE = 38194.28, Params: min_samples_split=10, max_depth=10\n",
      "Regression: MSE = 42007.12, Params: min_samples_split=10, max_depth=15\n",
      "Regression: MSE = 42651.42, Params: min_samples_split=10, max_depth=20\n",
      "Test MSE: 29738.89257574355\n",
      "Best Regression Params: (10, 10), MSE: 29738.89, Runtime: 13.16 seconds\n"
     ],
     "output_type":"stream"
    }
   ],
   "metadata":{
    "datalore":{
     "node_id":"QfWMkp2ze5IKuoptDMXgGn",
     "type":"CODE",
     "hide_input_from_viewers":true,
     "hide_output_from_viewers":true
    }
   }
  },
  {
   "cell_type":"markdown",
   "source":[
    "## Hyper parameter tuning and activation- Classification Random Forest"
   ],
   "attachments":{},
   "metadata":{
    "datalore":{
     "node_id":"Cb3wRaO4BEHBy3EKSQsm1z",
     "type":"MD",
     "hide_input_from_viewers":true,
     "hide_output_from_viewers":true
    }
   }
  },
  {
   "cell_type":"code",
   "source":[
    "def hyperParameterClassForest(X_train_class, X_val_class, X_test_class, y_train_class, y_val_class, y_test_class):\n",
    "\n",
    "    # Training and evaluating custom classification forest\n",
    "    param_grid_rf_class = {\n",
    "        'n_trees': [10, 50],\n",
    "        'max_depth': [10, 20],\n",
    "        'min_samples_split': [2, 5]\n",
    "    }\n",
    "    best_accuracy_rf_class = 0\n",
    "    best_params_rf_class = None\n",
    "    best_model_rf_class = None\n",
    "\n",
    "    start_time = time.time()\n",
    "    for n_trees in param_grid_rf_class['n_trees']:\n",
    "        for max_depth in param_grid_rf_class['max_depth']:\n",
    "            for min_samples_split in param_grid_rf_class['min_samples_split']:\n",
    "                model_rf_class = RandomForest(n_trees=n_trees, max_depth=max_depth, min_samples_split=min_samples_split, task=\"classification\")\n",
    "                model_rf_class.fit(X_train_class, y_train_class)\n",
    "                y_val_pred_rf_class = model_rf_class.predict(X_val_class)\n",
    "                accuracy_rf_class = accuracy_score(y_val_class, y_val_pred_rf_class)\n",
    "                print(f\"RF Classification: Accuracy = {accuracy_rf_class * 100:.2f}%, Params: n_trees={n_trees}, max_depth={max_depth}, min_samples_split={min_samples_split}\")\n",
    "                if accuracy_rf_class > best_accuracy_rf_class:\n",
    "                    best_accuracy_rf_class = accuracy_rf_class\n",
    "                    best_params_rf_class = (n_trees, max_depth, min_samples_split)\n",
    "                    best_model_rf_class = model_rf_class\n",
    "\n",
    "    # Predict and evaluate on the test set Classification Random Forest\n",
    "    y_test_pred = best_model_rf_class.predict(X_test_class)\n",
    "    test_accuracy_class_forest = accuracy_score(y_test_class, y_test_pred)\n",
    "    print(f\"Test Accuracy: {test_accuracy_class_forest * 100:.2f}%\")\n",
    "    #stop the time \n",
    "    runtime_rf_class = time.time() - start_time\n",
    "\n",
    "    print(f\"Best RF Classification Params: {best_params_rf_class}, Accuracy: {test_accuracy_class_forest * 100:.2f}%, Runtime: {runtime_rf_class:.2f} seconds\")\n",
    "\n",
    "    #for section e\n",
    "    sensitivityClassForest, specificityClassForest = calculate_sensitivity_specificity_combined(y_test_class, y_test_pred)\n",
    "    print(f\"Sensitivity: {sensitivityClassForest * 100:.2f}%, Specificity: {specificityClassForest * 100:.2f}%\")\n",
    "\n",
    "    return runtime_rf_class,best_params_rf_class,test_accuracy_class_forest,sensitivityClassForest,specificityClassForest\n",
    "\n",
    "\n",
    "runtime_rf_class,best_params_rf_class,test_accuracy_class_forest,sensitivityClassForest, specificityClassForest= hyperParameterClassForest(X_train_class, X_val_class, X_test_class, y_train_class, y_val_class, y_test_class)"
   ],
   "execution_count":80,
   "outputs":[
    {
     "name":"stdout",
     "text":[
      "RF Classification: Accuracy = 84.81%, Params: n_trees=10, max_depth=10, min_samples_split=2\n",
      "RF Classification: Accuracy = 83.22%, Params: n_trees=10, max_depth=10, min_samples_split=5\n",
      "RF Classification: Accuracy = 84.35%, Params: n_trees=10, max_depth=20, min_samples_split=2\n",
      "RF Classification: Accuracy = 85.03%, Params: n_trees=10, max_depth=20, min_samples_split=5\n",
      "RF Classification: Accuracy = 84.81%, Params: n_trees=50, max_depth=10, min_samples_split=2\n",
      "RF Classification: Accuracy = 84.81%, Params: n_trees=50, max_depth=10, min_samples_split=5\n",
      "RF Classification: Accuracy = 85.49%, Params: n_trees=50, max_depth=20, min_samples_split=2\n",
      "RF Classification: Accuracy = 85.71%, Params: n_trees=50, max_depth=20, min_samples_split=5\n",
      "Test Accuracy: 84.32%\n",
      "Best RF Classification Params: (50, 20, 5), Accuracy: 84.32%, Runtime: 456.39 seconds\n",
      "Sensitivity: 87.27%, Specificity: 79.77%\n"
     ],
     "output_type":"stream"
    }
   ],
   "metadata":{
    "datalore":{
     "node_id":"V03x5FpOj61FAyIEJ6Ofab",
     "type":"CODE",
     "hide_input_from_viewers":true,
     "hide_output_from_viewers":true
    }
   }
  },
  {
   "cell_type":"markdown",
   "source":[
    "## Hyper parameter tuning and activation- Regression Random Forest"
   ],
   "attachments":{},
   "metadata":{
    "datalore":{
     "node_id":"dR7Tw8Y5UsnmJ3ToqnjwGN",
     "type":"MD",
     "hide_input_from_viewers":true,
     "hide_output_from_viewers":true
    }
   }
  },
  {
   "cell_type":"code",
   "source":[
    "def hyperParameterRegressionForest(X_train_reg, X_val_reg, X_test_reg, y_train_reg, y_val_reg, y_test_reg):\n",
    "\n",
    "    # Hyper parameter tuning for Regression Forest\n",
    "    param_grid_rf_reg = {\n",
    "        'n_trees': [10, 50],\n",
    "        'max_depth': [10, 20],\n",
    "        'min_samples_split': [2, 5]\n",
    "    }\n",
    "    best_mse_rf_reg = float('inf')\n",
    "    best_params_rf_reg = None\n",
    "    best_model_rf_reg = None\n",
    "\n",
    "    start_time = time.time()\n",
    "    for n_trees in param_grid_rf_reg['n_trees']:\n",
    "        for max_depth in param_grid_rf_reg['max_depth']:\n",
    "            for min_samples_split in param_grid_rf_reg['min_samples_split']:\n",
    "                model_rf_reg = RandomForest(n_trees=n_trees, max_depth=max_depth, min_samples_split=min_samples_split, task=\"regression\")\n",
    "                model_rf_reg.fit(X_train_reg, y_train_reg)\n",
    "                y_val_pred_rf_reg = model_rf_reg.predict(X_val_reg)\n",
    "                mse_rf_reg = mean_squared_error(y_val_reg, y_val_pred_rf_reg)\n",
    "                print(f\"RF Regression: MSE = {mse_rf_reg:.2f}, Params: n_trees={n_trees}, max_depth={max_depth}, min_samples_split={min_samples_split}\")\n",
    "                if mse_rf_reg < best_mse_rf_reg:\n",
    "                    best_mse_rf_reg = mse_rf_reg\n",
    "                    best_params_rf_reg = (n_trees, max_depth, min_samples_split)\n",
    "                    best_model_rf_reg = model_rf_reg\n",
    "\n",
    "    # Predict and evaluate on the test set Regression Random Forest\n",
    "    y_test_pred = best_model_rf_reg.predict(X_test_reg)\n",
    "    test_mse_reg_forest = mean_squared_error(y_test_reg, y_test_pred)\n",
    "    print(f'Test MSE: {test_mse_reg_forest}')\n",
    "\n",
    "    runtime_rf_reg = time.time() - start_time\n",
    "\n",
    "    print(f\"Best RF Regression Params: {best_params_rf_reg}, MSE: {test_mse_reg_forest:.2f}, Runtime: {runtime_rf_reg:.2f} seconds\")\n",
    "    return runtime_rf_reg,best_params_rf_reg,test_mse_reg_forest\n",
    "runtime_rf_reg,best_params_rf_reg,test_mse_reg_forest = hyperParameterRegressionForest(X_train_reg, X_val_reg, X_test_reg, y_train_reg, y_val_reg, y_test_reg)"
   ],
   "execution_count":81,
   "outputs":[
    {
     "name":"stdout",
     "text":[
      "RF Regression: MSE = 33136.36, Params: n_trees=10, max_depth=10, min_samples_split=2\n",
      "RF Regression: MSE = 31399.87, Params: n_trees=10, max_depth=10, min_samples_split=5\n",
      "RF Regression: MSE = 35402.45, Params: n_trees=10, max_depth=20, min_samples_split=2\n",
      "RF Regression: MSE = 32843.21, Params: n_trees=10, max_depth=20, min_samples_split=5\n",
      "RF Regression: MSE = 30878.25, Params: n_trees=50, max_depth=10, min_samples_split=2\n",
      "RF Regression: MSE = 30639.41, Params: n_trees=50, max_depth=10, min_samples_split=5\n",
      "RF Regression: MSE = 32363.93, Params: n_trees=50, max_depth=20, min_samples_split=2\n",
      "RF Regression: MSE = 31122.86, Params: n_trees=50, max_depth=20, min_samples_split=5\n",
      "Test MSE: 25627.703962784784\n",
      "Best RF Regression Params: (50, 10, 5), MSE: 25627.70, Runtime: 575.95 seconds\n"
     ],
     "output_type":"stream"
    }
   ],
   "metadata":{
    "datalore":{
     "node_id":"ibPArG2VqFAzv0o8TLy1VO",
     "type":"CODE",
     "hide_input_from_viewers":true,
     "hide_output_from_viewers":true
    }
   }
  },
  {
   "cell_type":"markdown",
   "source":[
    "# Section D"
   ],
   "attachments":{},
   "metadata":{
    "datalore":{
     "node_id":"Section D",
     "type":"MD",
     "hide_input_from_viewers":false,
     "hide_output_from_viewers":false,
     "sheet_delimiter":true
    }
   }
  },
  {
   "cell_type":"markdown",
   "source":[
    "# Section D"
   ],
   "attachments":{},
   "metadata":{
    "datalore":{
     "node_id":"iCTtRqPSHshmFLw67qvtdW",
     "type":"MD",
     "hide_input_from_viewers":true,
     "hide_output_from_viewers":true
    }
   }
  },
  {
   "cell_type":"code",
   "source":[
    "from sklearn.tree import DecisionTreeClassifier, DecisionTreeRegressor\n",
    "from sklearn.ensemble import RandomForestClassifier, RandomForestRegressor\n",
    "from sklearn.model_selection import GridSearchCV\n",
    "from sklearn.metrics import accuracy_score, mean_squared_error\n",
    "import matplotlib.pyplot as plt\n",
    "import time\n",
    "\n",
    "# Define the parameter grids\n",
    "param_grid_class = {\n",
    "    'min_samples_split': [2, 5, 10],\n",
    "    'max_depth': [10, 15, 20]\n",
    "}\n",
    "\n",
    "param_grid_rf_class = {\n",
    "    'n_estimators': [10, 50],\n",
    "    'max_depth': [10, 20],\n",
    "    'min_samples_split': [2, 5]\n",
    "}\n",
    "\n",
    "# SKlearn's models with hyper parameter tuning with exact our parameters\n",
    "\n",
    "# Classification Tree\n",
    "start_time = time.time()\n",
    "clf_sklearn_ct = GridSearchCV(DecisionTreeClassifier(), param_grid_class, cv=5)\n",
    "clf_sklearn_ct.fit(X_train_class, y_train_class)\n",
    "best_params_class = clf_sklearn_ct.best_params_\n",
    "y_test_pred_sklearn_ct = clf_sklearn_ct.predict(X_test_class)\n",
    "accuracy_sklearn_ct = accuracy_score(y_test_class, y_test_pred_sklearn_ct)\n",
    "runtime_sklearn_ct = time.time() - start_time\n",
    "\n",
    "# Regression Tree\n",
    "start_time = time.time()\n",
    "reg_sklearn_rt = GridSearchCV(DecisionTreeRegressor(), param_grid_class, cv=5)\n",
    "reg_sklearn_rt.fit(X_train_reg, y_train_reg)\n",
    "best_params_reg = reg_sklearn_rt.best_params_\n",
    "y_test_pred_sklearn_rt = reg_sklearn_rt.predict(X_test_reg)\n",
    "mse_sklearn_rt = mean_squared_error(y_test_reg, y_test_pred_sklearn_rt)\n",
    "runtime_sklearn_rt = time.time() - start_time\n",
    "\n",
    "# Classification Random Forest\n",
    "start_time = time.time()\n",
    "clf_sklearn_rf = GridSearchCV(RandomForestClassifier(), param_grid_rf_class, cv=5)\n",
    "clf_sklearn_rf.fit(X_train_class, y_train_class)\n",
    "best_params_rf_class = clf_sklearn_rf.best_params_\n",
    "y_test_pred_sklearn_rf = clf_sklearn_rf.predict(X_test_class)\n",
    "accuracy_sklearn_rf = accuracy_score(y_test_class, y_test_pred_sklearn_rf)\n",
    "runtime_sklearn_rf = time.time() - start_time\n",
    "\n",
    "# Regression Random Forest\n",
    "start_time = time.time()\n",
    "reg_sklearn_rf = GridSearchCV(RandomForestRegressor(), param_grid_rf_class, cv=5)\n",
    "reg_sklearn_rf.fit(X_train_reg, y_train_reg)\n",
    "best_params_rf_reg = reg_sklearn_rf.best_params_\n",
    "y_test_pred_sklearn_rf = reg_sklearn_rf.predict(X_test_reg)\n",
    "mse_sklearn_rf = mean_squared_error(y_test_reg, y_test_pred_sklearn_rf)\n",
    "runtime_sklearn_rf = time.time() - start_time\n",
    "\n",
    "# Data for plots\n",
    "labels = ['Classification Tree', 'Classification Forest', 'Regression Tree', 'Regression Forest']\n",
    "custom_accuracy = [test_accuracy_class_tree * 100, test_accuracy_class_forest * 100]\n",
    "sklearn_accuracy = [accuracy_sklearn_ct * 100, accuracy_sklearn_rf * 100]\n",
    "custom_mse = [test_mse_reg_tree, test_mse_reg_forest]\n",
    "sklearn_mse = [mse_sklearn_rt, mse_sklearn_rf]\n",
    "custom_runtime = [runtime_class, runtime_rf_class, runtime_reg, runtime_rf_reg]\n",
    "sklearn_runtime = [runtime_sklearn_ct, runtime_sklearn_rf, runtime_sklearn_rt, runtime_sklearn_rf]\n",
    "\n",
    "# Colors\n",
    "custom_color = '#1f77b4'  # Custom model color\n",
    "sklearn_color = '#ff7f0e'  # Sklearn model color\n",
    "\n",
    "# Plot for Classification Accuracy and Runtime\n",
    "plt.figure(figsize=(16, 10))\n",
    "\n",
    "plt.subplot(2, 2, 1)\n",
    "x = range(len(labels[:2]))\n",
    "bar1 = plt.bar(x, custom_accuracy, width=0.4, label='Custom Models', align='center', color=custom_color)\n",
    "bar2 = plt.bar(x, sklearn_accuracy, width=0.4, label='Sklearn Models', align='edge', color=sklearn_color)\n",
    "plt.ylabel('Accuracy (%)')\n",
    "plt.title('Comparison of Classification Accuracy')\n",
    "plt.xticks(x, labels[:2])\n",
    "plt.legend()\n",
    "for bar in bar1 + bar2:\n",
    "    yval = bar.get_height()\n",
    "    plt.text(bar.get_x() + bar.get_width()\/2, yval + 1, f'{yval:.3f}', ha='center', va='bottom')\n",
    "\n",
    "plt.subplot(2, 2, 2)\n",
    "x = range(len(labels[:2]))\n",
    "bar1 = plt.bar(x, custom_runtime[:2], width=0.4, label='Custom Models', align='center', color=custom_color)\n",
    "bar2 = plt.bar(x, sklearn_runtime[:2], width=0.4, label='Sklearn Models', align='edge', color=sklearn_color)\n",
    "plt.ylabel('Runtime (seconds)')\n",
    "plt.yscale('log')\n",
    "plt.title('Comparison of Classification Runtimes (Log Scale)')\n",
    "plt.xticks(x, labels[:2])\n",
    "plt.legend()\n",
    "for bar in bar1 + bar2:\n",
    "    yval = bar.get_height()\n",
    "    plt.text(bar.get_x() + bar.get_width()\/2, yval * 1.1, f'{yval:.3f}', ha='center', va='bottom')\n",
    "\n",
    "# Plot for Regression MSE and Runtime\n",
    "plt.subplot(2, 2, 3)\n",
    "x = range(len(labels[2:]))\n",
    "bar1 = plt.bar(x, custom_mse, width=0.4, label='Custom Models', align='center', color=custom_color)\n",
    "bar2 = plt.bar(x, sklearn_mse, width=0.4, label='Sklearn Models', align='edge', color=sklearn_color)\n",
    "plt.ylabel('Mean Squared Error (MSE)')\n",
    "plt.title('Comparison of Regression MSE')\n",
    "plt.xticks(x, labels[2:])\n",
    "plt.legend()\n",
    "for bar in bar1 + bar2:\n",
    "    yval = bar.get_height()\n",
    "    plt.text(bar.get_x() + bar.get_width()\/2, yval + 500, f'{yval:.3f}', ha='center', va='bottom')\n",
    "\n",
    "plt.subplot(2, 2, 4)\n",
    "x = range(len(labels[2:]))\n",
    "bar1 = plt.bar(x, custom_runtime[2:], width=0.4, label='Custom Models', align='center', color=custom_color)\n",
    "bar2 = plt.bar(x, sklearn_runtime[2:], width=0.4, label='Sklearn Models', align='edge', color=sklearn_color)\n",
    "plt.ylabel('Runtime (seconds)')\n",
    "plt.yscale('log')\n",
    "plt.title('Comparison of Regression Runtimes (Log Scale)')\n",
    "plt.xticks(x, labels[2:])\n",
    "plt.legend()\n",
    "for bar in bar1 + bar2:\n",
    "    yval = bar.get_height()\n",
    "    plt.text(bar.get_x() + bar.get_width()\/2, yval * 1.1, f'{yval:.3f}', ha='center', va='bottom')\n",
    "\n",
    "plt.tight_layout()\n",
    "plt.show()\n",
    "\n",
    "# Print runtimes\n",
    "print(f\"Runtime for Custom Classification Tree: {runtime_class:.3f} seconds\")\n",
    "print(f\"Runtime for Sklearn Classification Tree: {runtime_sklearn_ct:.3f} seconds\")\n",
    "print(f\"Runtime for Custom Regression Tree: {runtime_reg:.3f} seconds\")\n",
    "print(f\"Runtime for Sklearn Regression Tree: {runtime_sklearn_rt:.3f} seconds\")\n",
    "print(f\"Runtime for Custom Classification Forest: {runtime_rf_class:.3f} seconds\")\n",
    "print(f\"Runtime for Sklearn Classification Forest: {runtime_sklearn_rf:.3f} seconds\")\n",
    "print(f\"Runtime for Custom Regression Forest: {runtime_rf_reg:.3f} seconds\")\n",
    "print(f\"Runtime for Sklearn Regression Forest: {runtime_sklearn_rf:.3f} seconds\")"
   ],
   "execution_count":82,
   "outputs":[
    {
     "name":"stdout",
     "text":[
      "Runtime for Custom Classification Tree: 22.240 seconds\n",
      "Runtime for Sklearn Classification Tree: 0.711 seconds\n",
      "Runtime for Custom Regression Tree: 13.158 seconds\n",
      "Runtime for Sklearn Regression Tree: 0.560 seconds\n",
      "Runtime for Custom Classification Forest: 456.392 seconds\n",
      "Runtime for Sklearn Classification Forest: 13.118 seconds\n",
      "Runtime for Custom Regression Forest: 575.947 seconds\n",
      "Runtime for Sklearn Regression Forest: 13.118 seconds\n"
     ],
     "output_type":"stream"
    },
    {
     "data":{
      "image\/png":"[encoded data removed]"
     },
     "metadata":{
      "image\/png":{}
     },
     "output_type":"display_data"
    }
   ],
   "metadata":{
    "datalore":{
     "node_id":"14CdTQkykJ6ciRlSMpHGVE",
     "type":"CODE",
     "hide_input_from_viewers":true,
     "hide_output_from_viewers":true
    }
   }
  },
  {
   "cell_type":"markdown",
   "source":[
    "## Scikit Learn Trees and Forests VS Our Implmentaions\n",
    "\n",
    "### Runtimes:\n",
    "- **Our Models** show significantly longer runtimes than **sklearn Models**, especially noticeable in the Classification Forest due to more complex computation processes and the absence of parallel processing optimizations found in sklearn.\n",
    "- **Sklearn Implementations** benefit from advanced optimization, significantly reducing computational times, particularly in more complex model configurations.\n",
    "- The substantial differences in runtime have necessitated the use of a **logarithmic scale** for graphing to enhance clarity and comparison.\n",
    "\n",
    "### Performance Metrics:\n",
    "- **Accuracy:** Our models perform comparably to sklearn in classification tasks. The slight advantage in accuracy for our models suggests that the intensive data learning process could be slightly more effective, though at the cost of increased computational time.\n",
    "- **MSE:** Sklearn models achieve lower Mean Squared Error (MSE) in regression tasks, indicating better prediction accuracy and more effective overfitting management."
   ],
   "attachments":{},
   "metadata":{
    "datalore":{
     "node_id":"D5JuvcMPuTAI3fi1VTdNqQ",
     "type":"MD",
     "hide_input_from_viewers":true,
     "hide_output_from_viewers":true
    }
   }
  },
  {
   "cell_type":"markdown",
   "source":[
    "# Section E"
   ],
   "attachments":{},
   "metadata":{
    "datalore":{
     "node_id":"Section E",
     "type":"MD",
     "hide_input_from_viewers":false,
     "hide_output_from_viewers":false,
     "sheet_delimiter":true
    }
   }
  },
  {
   "cell_type":"markdown",
   "source":[
    "# Section E"
   ],
   "attachments":{},
   "metadata":{
    "datalore":{
     "node_id":"upr9DMLrm2Dd3lhKQf04Ah",
     "type":"MD",
     "hide_input_from_viewers":true,
     "hide_output_from_viewers":true
    }
   }
  },
  {
   "cell_type":"markdown",
   "source":[
    "## Resolution Split into Width and Height: Impact on Model Performance"
   ],
   "attachments":{},
   "metadata":{
    "datalore":{
     "node_id":"JEXp5RSqAUEbRK94Cy1PnR",
     "type":"MD",
     "hide_input_from_viewers":true,
     "hide_output_from_viewers":true
    }
   }
  },
  {
   "cell_type":"code",
   "source":[
    "import pandas as pd\n",
    "import numpy as np\n",
    "from sklearn.metrics import accuracy_score, mean_squared_error\n",
    "import time\n",
    "\n",
    "# Load the data and select new features\n",
    "data = pd.read_csv(\"prepared_data_with_pixels_handling.csv\")\n",
    "features_classification_new = ['Brand', 'Screen_Size', 'RAM', 'Processor', 'GPU', 'GPU_Type', 'Price', 'Width', 'Height']\n",
    "features_regression_new = ['Brand', 'Screen_Size', 'RAM', 'Processor', 'GPU', 'GPU_Type', 'Condition', 'Width', 'Height']\n",
    "\n",
    "X_new_class = data[features_classification_new].values\n",
    "y_new_class = data[target_class].values\n",
    "X_new_reg = data[features_regression_new].values\n",
    "y_new_reg = data[target_reg].values\n",
    "\n",
    "X_train_class_new, X_val_class_new, X_test_class_new, y_train_class_new, y_val_class_new, y_test_class_new = split_data(X_new_class, y_new_class)\n",
    "X_train_reg_new, X_val_reg_new, X_test_reg_new, y_train_reg_new, y_val_reg_new, y_test_reg_new = split_data(X_new_reg, y_new_reg)"
   ],
   "execution_count":87,
   "outputs":[],
   "metadata":{
    "datalore":{
     "node_id":"BeWJMywHmcUWimw4iXJuC4",
     "type":"CODE",
     "hide_input_from_viewers":true,
     "hide_output_from_viewers":true
    }
   }
  },
  {
   "cell_type":"markdown",
   "source":[
    "### Hyper parameter tuning and activation- Classification Tree section E"
   ],
   "attachments":{},
   "metadata":{
    "datalore":{
     "node_id":"MW6gU3BepdilGPfG0plmP7",
     "type":"MD",
     "hide_input_from_viewers":true,
     "hide_output_from_viewers":true
    }
   }
  },
  {
   "cell_type":"code",
   "source":[
    "runtime_class_new,best_params_class_new,test_accuracy_class_tree_new,sensitivityClassTree_new,specificityClassTree_new=hyperParameterClassTree(X_train_class_new, X_val_class_new, X_test_class_new, y_train_class_new, y_val_class_new, y_test_class_new)"
   ],
   "execution_count":88,
   "outputs":[
    {
     "name":"stdout",
     "text":[
      "Classification: Accuracy = 81.18%, Params: min_samples_split=2, max_depth=10\n",
      "Classification: Accuracy = 80.50%, Params: min_samples_split=2, max_depth=15\n",
      "Classification: Accuracy = 80.73%, Params: min_samples_split=2, max_depth=20\n",
      "Classification: Accuracy = 81.63%, Params: min_samples_split=5, max_depth=10\n",
      "Classification: Accuracy = 81.86%, Params: min_samples_split=5, max_depth=15\n",
      "Classification: Accuracy = 81.63%, Params: min_samples_split=5, max_depth=20\n",
      "Classification: Accuracy = 82.54%, Params: min_samples_split=10, max_depth=10\n",
      "Classification: Accuracy = 82.54%, Params: min_samples_split=10, max_depth=15\n",
      "Classification: Accuracy = 82.31%, Params: min_samples_split=10, max_depth=20\n",
      "Test Accuracy: 79.32%\n",
      "Best Classification Params: (10, 10), Accuracy: 79.32%, Runtime: 25.59 seconds\n",
      "Sensitivity: 87.27%, Specificity: 79.77%\n"
     ],
     "output_type":"stream"
    }
   ],
   "metadata":{
    "datalore":{
     "node_id":"JbNJo5GHtpaOk15QixJ5mH",
     "type":"CODE",
     "hide_input_from_viewers":true,
     "hide_output_from_viewers":true
    }
   }
  },
  {
   "cell_type":"markdown",
   "source":[
    " ### Hyper parameter tuning and activation- Regression Tree section E"
   ],
   "attachments":{},
   "metadata":{
    "datalore":{
     "node_id":"bprviv0VUkrdwDGMQc3O3J",
     "type":"MD",
     "hide_input_from_viewers":true,
     "hide_output_from_viewers":true
    }
   }
  },
  {
   "cell_type":"code",
   "source":[
    "runtime_reg_new,best_params_reg_new,test_mse_reg_tree_new = hyperParameterRegressionTree(X_train_reg_new, X_val_reg_new, X_test_reg_new, y_train_reg_new, y_val_reg_new, y_test_reg_new)"
   ],
   "execution_count":89,
   "outputs":[
    {
     "name":"stdout",
     "text":[
      "Regression: MSE = 42860.07, Params: min_samples_split=2, max_depth=10\n",
      "Regression: MSE = 45914.69, Params: min_samples_split=2, max_depth=15\n",
      "Regression: MSE = 50004.04, Params: min_samples_split=2, max_depth=20\n",
      "Regression: MSE = 38652.14, Params: min_samples_split=5, max_depth=10\n",
      "Regression: MSE = 45613.70, Params: min_samples_split=5, max_depth=15\n",
      "Regression: MSE = 48708.64, Params: min_samples_split=5, max_depth=20\n",
      "Regression: MSE = 38870.89, Params: min_samples_split=10, max_depth=10\n",
      "Regression: MSE = 40855.97, Params: min_samples_split=10, max_depth=15\n",
      "Regression: MSE = 43035.34, Params: min_samples_split=10, max_depth=20\n",
      "Test MSE: 33248.841507381025\n",
      "Best Regression Params: (5, 10), MSE: 33248.84, Runtime: 16.49 seconds\n"
     ],
     "output_type":"stream"
    }
   ],
   "metadata":{
    "datalore":{
     "node_id":"ZxUK8MfpKggtKcMzyJTOdq",
     "type":"CODE",
     "hide_input_from_viewers":true,
     "hide_output_from_viewers":true
    }
   }
  },
  {
   "cell_type":"markdown",
   "source":[
    "### Hyper parameter tuning and activation- Classification Random Forest section E"
   ],
   "attachments":{},
   "metadata":{
    "datalore":{
     "node_id":"7dph6s0w18rJg7zpiguDL9",
     "type":"MD",
     "hide_input_from_viewers":true,
     "hide_output_from_viewers":true
    }
   }
  },
  {
   "cell_type":"code",
   "source":[
    "runtime_rf_class_new,best_params_rf_class_new,test_accuracy_class_forest_new,sensitivityClassForest_new, specificityClassForest_new = hyperParameterClassForest(X_train_class_new, X_val_class_new, X_test_class_new, y_train_class_new, y_val_class_new, y_test_class_new)"
   ],
   "execution_count":90,
   "outputs":[
    {
     "name":"stdout",
     "text":[
      "RF Classification: Accuracy = 84.58%, Params: n_trees=10, max_depth=10, min_samples_split=2\n",
      "RF Classification: Accuracy = 84.13%, Params: n_trees=10, max_depth=10, min_samples_split=5\n",
      "RF Classification: Accuracy = 82.31%, Params: n_trees=10, max_depth=20, min_samples_split=2\n",
      "RF Classification: Accuracy = 82.54%, Params: n_trees=10, max_depth=20, min_samples_split=5\n",
      "RF Classification: Accuracy = 85.03%, Params: n_trees=50, max_depth=10, min_samples_split=2\n",
      "RF Classification: Accuracy = 85.26%, Params: n_trees=50, max_depth=10, min_samples_split=5\n",
      "RF Classification: Accuracy = 84.81%, Params: n_trees=50, max_depth=20, min_samples_split=2\n",
      "RF Classification: Accuracy = 85.26%, Params: n_trees=50, max_depth=20, min_samples_split=5\n",
      "Test Accuracy: 82.27%\n",
      "Best RF Classification Params: (50, 10, 5), Accuracy: 82.27%, Runtime: 885.10 seconds\n",
      "Sensitivity: 85.39%, Specificity: 77.46%\n"
     ],
     "output_type":"stream"
    }
   ],
   "metadata":{
    "datalore":{
     "node_id":"6l2L3IY0UIS8nJD31vChio",
     "type":"CODE",
     "hide_input_from_viewers":true,
     "hide_output_from_viewers":true
    }
   }
  },
  {
   "cell_type":"markdown",
   "source":[
    "### Hyper parameter tuning and activation- Regression Random Forest section E"
   ],
   "attachments":{},
   "metadata":{
    "datalore":{
     "node_id":"yGLru9de7VltZhd10SbReo",
     "type":"MD",
     "hide_input_from_viewers":true,
     "hide_output_from_viewers":true
    }
   }
  },
  {
   "cell_type":"code",
   "source":[
    "runtime_rf_reg_new,best_params_rf_reg_new,test_mse_reg_forest_new = hyperParameterRegressionForest(X_train_reg_new, X_val_reg_new, X_test_reg_new, y_train_reg_new, y_val_reg_new, y_test_reg_new)"
   ],
   "execution_count":91,
   "outputs":[
    {
     "name":"stdout",
     "text":[
      "RF Regression: MSE = 32328.60, Params: n_trees=10, max_depth=10, min_samples_split=2\n",
      "RF Regression: MSE = 31293.49, Params: n_trees=10, max_depth=10, min_samples_split=5\n",
      "RF Regression: MSE = 34178.40, Params: n_trees=10, max_depth=20, min_samples_split=2\n",
      "RF Regression: MSE = 34700.56, Params: n_trees=10, max_depth=20, min_samples_split=5\n",
      "RF Regression: MSE = 30391.82, Params: n_trees=50, max_depth=10, min_samples_split=2\n",
      "RF Regression: MSE = 30870.47, Params: n_trees=50, max_depth=10, min_samples_split=5\n",
      "RF Regression: MSE = 31919.79, Params: n_trees=50, max_depth=20, min_samples_split=2\n",
      "RF Regression: MSE = 31904.41, Params: n_trees=50, max_depth=20, min_samples_split=5\n",
      "Test MSE: 26199.942930477857\n",
      "Best RF Regression Params: (50, 10, 2), MSE: 26199.94, Runtime: 751.84 seconds\n"
     ],
     "output_type":"stream"
    }
   ],
   "metadata":{
    "datalore":{
     "node_id":"0HUyQjpanKuawtkK1NIcS8",
     "type":"CODE",
     "hide_input_from_viewers":true,
     "hide_output_from_viewers":true
    }
   }
  },
  {
   "cell_type":"markdown",
   "source":[
    "### Visuals:"
   ],
   "attachments":{},
   "metadata":{
    "datalore":{
     "node_id":"hgtuiJDKHxyR513ttdQcFD",
     "type":"MD",
     "hide_input_from_viewers":true,
     "hide_output_from_viewers":true
    }
   }
  },
  {
   "cell_type":"code",
   "source":[
    "import matplotlib.pyplot as plt\n",
    "import numpy as np\n",
    "\n",
    "# Define the labels and metrics\n",
    "labels = ['Classification Tree', 'Classification Forest']\n",
    "resolution_metrics = [test_accuracy_class_tree * 100, test_accuracy_class_forest * 100]\n",
    "split_metrics = [test_accuracy_class_tree_new * 100, test_accuracy_class_forest_new * 100]\n",
    "\n",
    "# Set up the figure and axis\n",
    "fig, ax = plt.subplots(figsize=(12, 6))\n",
    "x = np.arange(len(labels))  # the label locations\n",
    "width = 0.35  # the width of the bars\n",
    "\n",
    "# Plot bars for Resolution and Resolution Split\n",
    "rects1 = ax.bar(x - width\/2, resolution_metrics, width, label='Resolution Not Split', color='red')\n",
    "rects2 = ax.bar(x + width\/2, split_metrics, width, label='Resolution Split', color='orange')\n",
    "\n",
    "# Add some text for labels, title and custom x-axis tick labels, etc.\n",
    "ax.set_ylabel('Accuracy (%)')\n",
    "ax.set_title('Classification Accuracy: Resolution Split vs Not Split')\n",
    "ax.set_xticks(x)\n",
    "ax.set_xticklabels(labels)\n",
    "ax.legend()\n",
    "\n",
    "# Attach a text label above each bar in rects1 and rects2, displaying its height.\n",
    "def autolabel(rects):\n",
    "    \"\"\"Attach a text label above each bar in *rects*, displaying its height.\"\"\"\n",
    "    for rect in rects:\n",
    "        height = rect.get_height()\n",
    "        ax.annotate('{}'.format(round(height, 2)),\n",
    "                    xy=(rect.get_x() + rect.get_width() \/ 2, height),\n",
    "                    xytext=(0, 3),  # 3 points vertical offset\n",
    "                    textcoords=\"offset points\",\n",
    "                    ha='center', va='bottom')\n",
    "\n",
    "autolabel(rects1)\n",
    "autolabel(rects2)\n",
    "\n",
    "fig.tight_layout()\n",
    "plt.show()\n",
    "\n",
    "# Repeat for the regression data\n",
    "labels = ['Regression Tree', 'Regression Forest']\n",
    "resolution_metrics = [test_mse_reg_tree, test_mse_reg_forest]\n",
    "split_metrics = [test_mse_reg_tree_new, test_mse_reg_forest_new]\n",
    "\n",
    "fig, ax = plt.subplots(figsize=(12, 6))\n",
    "rects1 = ax.bar(x - width\/2, resolution_metrics, width, label='Resolution Not Split', color='red')\n",
    "rects2 = ax.bar(x + width\/2, split_metrics, width, label='Resolution Split', color='orange')\n",
    "\n",
    "ax.set_ylabel('Mean Squared Error (MSE)')\n",
    "ax.set_title('Regression MSE: Resolution Split vs Not Split')\n",
    "ax.set_xticks(x)\n",
    "ax.set_xticklabels(labels)\n",
    "ax.legend()\n",
    "\n",
    "autolabel(rects1)\n",
    "autolabel(rects2)\n",
    "\n",
    "fig.tight_layout()\n",
    "plt.show()"
   ],
   "execution_count":92,
   "outputs":[
    {
     "data":{
      "image\/png":"[encoded data removed]"
     },
     "metadata":{
      "image\/png":{}
     },
     "output_type":"display_data"
    },
    {
     "data":{
      "image\/png":"[encoded data removed]"
     },
     "metadata":{
      "image\/png":{}
     },
     "output_type":"display_data"
    }
   ],
   "metadata":{
    "datalore":{
     "node_id":"iVSuadSfJsBxM8ADBHobR6",
     "type":"CODE",
     "hide_input_from_viewers":true,
     "hide_output_from_viewers":true
    }
   }
  },
  {
   "cell_type":"markdown",
   "source":[
    "\n",
    "## Data and Feature Selection:\n",
    "We enhanced the dataset by dividing the \"Resolution\" into two new attributes: \"Width\" and \"Height\". We did this to see if having more detailed resolution information could make our models work better.\n",
    "\n",
    "## Model Re-Evaluation with Adjusted Hyperparameters:\n",
    "After integrating these new features, the models were subjected to a fresh round of hyperparameter tuning. This step was crucial to adapt the models to the updated dataset and to evaluate whether the additional granularity provided by the split resolution impacts the models' effectiveness.\n",
    "\n",
    "## Results:\n",
    "\n",
    "- **Classification Tree and Forest Models:**\n",
    "  - The changes had mixed effects on the models. One model got a bit more accurate, but the other didn't do as well. This shows that just adding more details like Width and Height doesn't always make the predictions better and might even distract from more important data points.\n",
    "\n",
    "- **Regression Tree and Forest Models:**\n",
    "  - The error rate (Mean Squared Error, or MSE) went up for both models. This suggests that the extra details from splitting the resolution could make it harder, not easier, for the models to predict outcomes correctly.\n",
    "\n",
    "## Conclusion:\n",
    "The division of resolution into Width and Height did not consistently improve model performance. In classification tasks, the impact on accuracy varied, and in regression, it generally led to a decrease in performance. These findings suggest potential overfitting or a diversion from more relevant features due to the additional detail."
   ],
   "attachments":{},
   "metadata":{
    "datalore":{
     "node_id":"gKSDdtk7mKkjloa7N2T7sk",
     "type":"MD",
     "hide_input_from_viewers":true,
     "hide_output_from_viewers":true
    }
   }
  },
  {
   "cell_type":"markdown",
   "source":[
    "# Classification Metric"
   ],
   "attachments":{},
   "metadata":{
    "datalore":{
     "node_id":"Fgy0GKwM1ldgxVZw7APmR7",
     "type":"MD",
     "hide_input_from_viewers":true,
     "hide_output_from_viewers":true
    }
   }
  },
  {
   "cell_type":"code",
   "source":[
    "import matplotlib.pyplot as plt\n",
    "import numpy as np\n",
    "\n",
    "# Data to plot\n",
    "labels = ['Sensitivity', 'Specificity']\n",
    "class_tree = [sensitivityClassTree, specificityClassTree]\n",
    "class_forest = [sensitivityClassForest, specificityClassForest]\n",
    "\n",
    "x = np.arange(len(labels)) \n",
    "width = 0.3  \n",
    "\n",
    "# Create the plot\n",
    "fig, ax = plt.subplots(figsize=(8, 6))  # increased figure size\n",
    "rects1 = ax.bar(x - width\/2, class_tree, width, label='Class Tree')\n",
    "rects2 = ax.bar(x + width\/2, class_forest, width, label='Class Forest')\n",
    "\n",
    "# Add some text for labels, title and custom x-axis tick labels, etc.\n",
    "ax.set_ylabel('Scores')\n",
    "ax.set_title('Scores by model and metric')\n",
    "ax.set_xticks(x)\n",
    "ax.set_xticklabels(labels)\n",
    "\n",
    "# Position the legend\n",
    "ax.legend(loc='upper left', bbox_to_anchor=(1, 1))  # Move legend outside of plot\n",
    "\n",
    "def autolabel(rects):\n",
    "    \"\"\"Attach a text label above each bar in *rects*, displaying its height formatted with three decimal places.\"\"\"\n",
    "    for rect in rects:\n",
    "        height = rect.get_height()\n",
    "        ax.annotate(f'{height:.3f}',\n",
    "                    xy=(rect.get_x() + rect.get_width() \/ 2, height),\n",
    "                    xytext=(0, 3),  # 3 points vertical offset\n",
    "                    textcoords=\"offset points\",\n",
    "                    ha='center', va='bottom')\n",
    "\n",
    "autolabel(rects1)\n",
    "autolabel(rects2)\n",
    "\n",
    "fig.tight_layout()\n",
    "\n",
    "plt.show()"
   ],
   "execution_count":93,
   "outputs":[
    {
     "data":{
      "image\/png":"[encoded data removed]"
     },
     "metadata":{
      "image\/png":{}
     },
     "output_type":"display_data"
    }
   ],
   "metadata":{
    "datalore":{
     "node_id":"ASb27WQlmIkjsn1FymEVYN",
     "type":"CODE",
     "hide_input_from_viewers":true,
     "hide_output_from_viewers":true
    }
   }
  },
  {
   "cell_type":"markdown",
   "source":[
    "## Discussion on Model Performance\n",
    "\n",
    "### Overview\n",
    "We looked at how well a Classification Tree and a Classification Forest could identify correct results (true positives and true negatives) using measures called sensitivity and specificity.\n",
    "\n",
    "### Performance Insights\n",
    "- **Sensitivity**: The Classification Forest was slightly better than the Classification Tree at recognizing true positives, which means it was better at correctly identifying cases that actually were positive.\n",
    "- **Specificity**: Both models were good at identifying true negatives, but the Classification Forest did a tiny bit better. This means it was slightly better at correctly saying when cases were not positive.\n",
    "\n",
    "### Analysis\n",
    "The Classification Forest performed better because it uses a technique called \"ensemble methods.\" These methods use multiple models to make a decision, which generally gives more reliable results. This helps the model perform well on new, unseen data and reduces the chance of fitting too much to the noise in the training data.\n",
    "\n",
    "### Recommendations for Improvement\n",
    "- **Feature Engineering**: Improving how we choose and prepare the features (data inputs) could make the models even more accurate.For example we could add Screen Pixel Density (DPI) Feature, calculated by: Height * Width \/ ScreenSize.\n",
    "- **Hyperparameter Tuning**: Expanding the parameter grid might lead to better performance.\n",
    "- **Pruning**: Reduce overfitting in trees by pruning, which can help in improving the specificity."
   ],
   "attachments":{},
   "metadata":{
    "datalore":{
     "node_id":"QQMhhHVsbGpJ9gnfME9Wfy",
     "type":"MD",
     "hide_input_from_viewers":true,
     "hide_output_from_viewers":true
    }
   }
  },
  {
   "cell_type":"markdown",
   "source":[
    "# **Random Forest Regression - Median VS Mean**"
   ],
   "attachments":{},
   "metadata":{
    "datalore":{
     "node_id":"zfHM9hNhmk2Zy6Yqmh5Bmm",
     "type":"MD",
     "hide_input_from_viewers":true,
     "hide_output_from_viewers":true
    }
   }
  },
  {
   "cell_type":"code",
   "source":[
    "class RandomForestWithMedian:\n",
    "    def __init__(self, n_trees=10, max_depth=None, min_samples_split=2, task=\"classification\"):\n",
    "        self.n_trees = n_trees\n",
    "        self.max_depth = max_depth\n",
    "        self.min_samples_split = min_samples_split\n",
    "        self.task = task\n",
    "        self.trees = []\n",
    "\n",
    "    def fit(self, X, y):\n",
    "        self.trees = []\n",
    "        for _ in range(self.n_trees):\n",
    "            idxs = np.random.choice(len(X), len(X), replace=True)\n",
    "            X_sample, y_sample = X[idxs], y[idxs]\n",
    "            if self.task == \"classification\":\n",
    "                tree = ClassificationTree(min_samples_split=self.min_samples_split, max_depth=self.max_depth)\n",
    "            else:\n",
    "                tree = RegressionTree(min_samples_split=self.min_samples_split, max_depth=self.max_depth)\n",
    "            tree.fit(X_sample, y_sample)\n",
    "            self.trees.append(tree)\n",
    "\n",
    "    def predict(self, X):\n",
    "        if self.task == \"classification\":\n",
    "            tree_preds = np.array([tree.predict(X) for tree in self.trees])\n",
    "            tree_preds = np.swapaxes(tree_preds, 0, 1)\n",
    "            y_pred = [Counter(tree_pred).most_common(1)[0][0] for tree_pred in tree_preds]\n",
    "        else:\n",
    "            tree_preds = np.array([tree.predict(X) for tree in self.trees])\n",
    "            y_pred = np.median(tree_preds, axis=0)\n",
    "        return y_pred\n",
    "\n",
    "# Re-run the regression with the updated RandomForestWithMedian\n",
    "param_grid_rf_reg = {\n",
    "    'n_trees': [10, 50],\n",
    "    'max_depth': [10, 20],\n",
    "    'min_samples_split': [2, 5]\n",
    "}\n",
    "\n",
    "best_mse_rf_reg_median = float('inf')\n",
    "best_params_rf_reg_median = None\n",
    "best_model_rf_reg_median = None\n",
    "\n",
    "for n_trees in param_grid_rf_reg['n_trees']:\n",
    "    for max_depth in param_grid_rf_reg['max_depth']:\n",
    "        for min_samples_split in param_grid_rf_reg['min_samples_split']:\n",
    "            model_rf_reg_median = RandomForestWithMedian(n_trees=n_trees, max_depth=max_depth, min_samples_split=min_samples_split, task=\"regression\")\n",
    "            model_rf_reg_median.fit(X_train_reg, y_train_reg)\n",
    "            y_val_pred_rf_reg_median = model_rf_reg_median.predict(X_val_reg)\n",
    "            mse_rf_reg_median = mean_squared_error(y_val_reg, y_val_pred_rf_reg_median)\n",
    "            print(f\"RF Regression with Median: MSE = {mse_rf_reg_median:.2f}, Params: n_trees={n_trees}, max_depth={max_depth}, min_samples_split={min_samples_split}\")\n",
    "            if mse_rf_reg_median < best_mse_rf_reg_median:\n",
    "                best_mse_rf_reg_median = mse_rf_reg_median\n",
    "                best_params_rf_reg_median = (n_trees, max_depth, min_samples_split)\n",
    "                best_model_rf_reg_median = model_rf_reg_median\n",
    "\n",
    "print(f\"Best RF Regression with Median Params: {best_params_rf_reg_median}, MSE: {best_mse_rf_reg_median:.2f}\")\n",
    "\n",
    "# Visual comparison with the results from Section C\n",
    "plt.figure(figsize=(10, 5))\n",
    "plt.bar(['RF Regression with Mean', 'RF Regression with Median'], \n",
    "        [test_mse_reg_forest, best_mse_rf_reg_median], \n",
    "        color=['blue', 'green'])\n",
    "plt.ylabel('Mean Squared Error (MSE)')\n",
    "plt.title('Comparison of RF Regression with Mean vs Median')\n",
    "plt.show()"
   ],
   "execution_count":94,
   "outputs":[
    {
     "name":"stdout",
     "text":[
      "RF Regression with Median: MSE = 31936.03, Params: n_trees=10, max_depth=10, min_samples_split=2\n",
      "RF Regression with Median: MSE = 33490.26, Params: n_trees=10, max_depth=10, min_samples_split=5\n",
      "RF Regression with Median: MSE = 39842.27, Params: n_trees=10, max_depth=20, min_samples_split=2\n",
      "RF Regression with Median: MSE = 35200.76, Params: n_trees=10, max_depth=20, min_samples_split=5\n",
      "RF Regression with Median: MSE = 33012.96, Params: n_trees=50, max_depth=10, min_samples_split=2\n",
      "RF Regression with Median: MSE = 32476.21, Params: n_trees=50, max_depth=10, min_samples_split=5\n",
      "RF Regression with Median: MSE = 38215.13, Params: n_trees=50, max_depth=20, min_samples_split=2\n",
      "RF Regression with Median: MSE = 33917.14, Params: n_trees=50, max_depth=20, min_samples_split=5\n",
      "Best RF Regression with Median Params: (10, 10, 2), MSE: 31936.03\n"
     ],
     "output_type":"stream"
    },
    {
     "data":{
      "image\/png":"[encoded data removed]"
     },
     "metadata":{
      "image\/png":{}
     },
     "output_type":"display_data"
    }
   ],
   "metadata":{
    "datalore":{
     "node_id":"bTW2CULI49CMfzYjaOrYj8",
     "type":"CODE",
     "hide_input_from_viewers":true,
     "hide_output_from_viewers":true
    }
   }
  },
  {
   "cell_type":"markdown",
   "source":[
    "## Analysis of Aggregation Methods in Random Forest Regression\n",
    "\n",
    "### Overview\n",
    "We observed a performance shift in our Random Forest regression model when the aggregation method was altered from mean to median, as reflected by an increase in the Mean Squared Error (MSE).\n",
    "\n",
    "### Findings\n",
    "- **Change in MSE**: Switching from mean to median aggregation resulted in a higher MSE, indicating a decrease in model performance.\n",
    "- **Theoretical Insight**: According to the Central Limit Theorem (CLT), the mean of a large number of identically distributed variables, like the predictions from individual trees in a Random Forest, tends to follow a normal distribution. This property aids in reducing the variance of the aggregated predictions, which can contribute to a lower MSE when using the mean as the aggregation method.\n",
    "- **Median vs. Mean**: The median, known for its robustness to outliers, does not leverage the variance reduction benefit provided by the CLT. Consequently, using the median as an aggregation method might result in a higher MSE since it does not effectively smooth out the variations in individual predictions as the mean does.\n",
    "\n",
    "### Conclusion\n",
    "The observed increase in MSE with median aggregation underscores the importance of choosing the right aggregation method based on the specific characteristics and distribution of the data. For our dataset, mean aggregation appears to be more effective in minimizing prediction errors."
   ],
   "attachments":{},
   "metadata":{
    "datalore":{
     "node_id":"iPzJiBfKbBwTPA7KDQSlHx",
     "type":"MD",
     "hide_input_from_viewers":true,
     "hide_output_from_viewers":true
    }
   }
  }
 ],
 "metadata":{
  "kernelspec":{
   "display_name":"Python",
   "language":"python",
   "name":"python"
  },
  "datalore":{
   "computation_mode":"JUPYTER",
   "package_manager":"pip",
   "base_environment":"default",
   "packages":[],
   "report_row_ids":[],
   "version":3
  }
 },
 "nbformat":4,
 "nbformat_minor":4
}